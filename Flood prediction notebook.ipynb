{
 "cells": [
  {
   "cell_type": "code",
   "execution_count": 1,
   "id": "2f33afad",
   "metadata": {},
   "outputs": [],
   "source": [
    "import numpy as np\n",
    "import pandas as pd\n",
    "from sklearn.neural_network import MLPRegressor\n",
    "import keras\n",
    "keras.__version__\n",
    "from keras import models\n",
    "from keras import layers\n",
    "from keras.models import Sequential\n",
    "from keras.layers.core import Dense, Dropout, Activation, Flatten\n",
    "from keras.optimizers import SGD\n",
    "from keras.layers import BatchNormalization\n",
    "import sklearn\n",
    "from sklearn.preprocessing import StandardScaler\n",
    "from sklearn.ensemble import RandomForestRegressor as rf\n",
    "from sklearn.neighbors import KNeighborsRegressor as knn\n",
    "from keras.layers import LeakyReLU\n",
    "from sklearn.model_selection import train_test_split\n",
    "\n",
    "from sklearn.model_selection import cross_val_score\n",
    "from sklearn.model_selection import KFold\n",
    "\n",
    "from matplotlib import pyplot as plt\n",
    "from scikeras.wrappers import KerasClassifier\n",
    "from sklearn.model_selection import GridSearchCV\n",
    "from sklearn.metrics import confusion_matrix\n",
    "from sklearn.model_selection import cross_val_predict"
   ]
  },
  {
   "cell_type": "code",
   "execution_count": 2,
   "id": "ee913cb1",
   "metadata": {},
   "outputs": [],
   "source": [
    "data=pd.read_csv(\"C:\\\\Users\\\\jqotw\\\\Downloads\\\\playground-series-s4e5\\\\train.csv\")"
   ]
  },
  {
   "cell_type": "code",
   "execution_count": 3,
   "id": "736b6e7a",
   "metadata": {},
   "outputs": [],
   "source": [
    "data_10000=data.sample(10000)"
   ]
  },
  {
   "cell_type": "code",
   "execution_count": 4,
   "id": "2e613602",
   "metadata": {},
   "outputs": [],
   "source": [
    "X=data_10000.drop(['id','FloodProbability'],axis=1)\n",
    "y=data_10000['FloodProbability']"
   ]
  },
  {
   "cell_type": "code",
   "execution_count": 35,
   "id": "be90af84",
   "metadata": {},
   "outputs": [
    {
     "ename": "KeyboardInterrupt",
     "evalue": "",
     "output_type": "error",
     "traceback": [
      "\u001b[1;31m---------------------------------------------------------------------------\u001b[0m",
      "\u001b[1;31mKeyboardInterrupt\u001b[0m                         Traceback (most recent call last)",
      "Input \u001b[1;32mIn [35]\u001b[0m, in \u001b[0;36m<cell line: 4>\u001b[1;34m()\u001b[0m\n\u001b[0;32m      6\u001b[0m model1\u001b[38;5;241m=\u001b[39mknn(n_neighbors\u001b[38;5;241m=\u001b[39mi\u001b[38;5;241m+\u001b[39m\u001b[38;5;241m1\u001b[39m)\n\u001b[0;32m      7\u001b[0m fold \u001b[38;5;241m=\u001b[39mKFold(\u001b[38;5;241m5\u001b[39m)\n\u001b[1;32m----> 8\u001b[0m score\u001b[38;5;241m=\u001b[39m\u001b[43mcross_val_score\u001b[49m\u001b[43m(\u001b[49m\u001b[43mmodel1\u001b[49m\u001b[43m,\u001b[49m\u001b[43mX\u001b[49m\u001b[43m,\u001b[49m\u001b[43my\u001b[49m\u001b[43m,\u001b[49m\u001b[43mcv\u001b[49m\u001b[38;5;241;43m=\u001b[39;49m\u001b[43mfold\u001b[49m\u001b[43m,\u001b[49m\u001b[43mscoring\u001b[49m\u001b[38;5;241;43m=\u001b[39;49m\u001b[38;5;124;43m'\u001b[39;49m\u001b[38;5;124;43mr2\u001b[39;49m\u001b[38;5;124;43m'\u001b[39;49m\u001b[43m)\u001b[49m\n\u001b[0;32m      9\u001b[0m \u001b[38;5;28;01mif\u001b[39;00m np\u001b[38;5;241m.\u001b[39mmean(score) \u001b[38;5;241m>\u001b[39m grade:\n\u001b[0;32m     10\u001b[0m     grade\u001b[38;5;241m=\u001b[39mnp\u001b[38;5;241m.\u001b[39mmean(score)\n",
      "File \u001b[1;32m~\\anaconda3\\lib\\site-packages\\sklearn\\model_selection\\_validation.py:509\u001b[0m, in \u001b[0;36mcross_val_score\u001b[1;34m(estimator, X, y, groups, scoring, cv, n_jobs, verbose, fit_params, pre_dispatch, error_score)\u001b[0m\n\u001b[0;32m    506\u001b[0m \u001b[38;5;66;03m# To ensure multimetric format is not supported\u001b[39;00m\n\u001b[0;32m    507\u001b[0m scorer \u001b[38;5;241m=\u001b[39m check_scoring(estimator, scoring\u001b[38;5;241m=\u001b[39mscoring)\n\u001b[1;32m--> 509\u001b[0m cv_results \u001b[38;5;241m=\u001b[39m \u001b[43mcross_validate\u001b[49m\u001b[43m(\u001b[49m\n\u001b[0;32m    510\u001b[0m \u001b[43m    \u001b[49m\u001b[43mestimator\u001b[49m\u001b[38;5;241;43m=\u001b[39;49m\u001b[43mestimator\u001b[49m\u001b[43m,\u001b[49m\n\u001b[0;32m    511\u001b[0m \u001b[43m    \u001b[49m\u001b[43mX\u001b[49m\u001b[38;5;241;43m=\u001b[39;49m\u001b[43mX\u001b[49m\u001b[43m,\u001b[49m\n\u001b[0;32m    512\u001b[0m \u001b[43m    \u001b[49m\u001b[43my\u001b[49m\u001b[38;5;241;43m=\u001b[39;49m\u001b[43my\u001b[49m\u001b[43m,\u001b[49m\n\u001b[0;32m    513\u001b[0m \u001b[43m    \u001b[49m\u001b[43mgroups\u001b[49m\u001b[38;5;241;43m=\u001b[39;49m\u001b[43mgroups\u001b[49m\u001b[43m,\u001b[49m\n\u001b[0;32m    514\u001b[0m \u001b[43m    \u001b[49m\u001b[43mscoring\u001b[49m\u001b[38;5;241;43m=\u001b[39;49m\u001b[43m{\u001b[49m\u001b[38;5;124;43m\"\u001b[39;49m\u001b[38;5;124;43mscore\u001b[39;49m\u001b[38;5;124;43m\"\u001b[39;49m\u001b[43m:\u001b[49m\u001b[43m \u001b[49m\u001b[43mscorer\u001b[49m\u001b[43m}\u001b[49m\u001b[43m,\u001b[49m\n\u001b[0;32m    515\u001b[0m \u001b[43m    \u001b[49m\u001b[43mcv\u001b[49m\u001b[38;5;241;43m=\u001b[39;49m\u001b[43mcv\u001b[49m\u001b[43m,\u001b[49m\n\u001b[0;32m    516\u001b[0m \u001b[43m    \u001b[49m\u001b[43mn_jobs\u001b[49m\u001b[38;5;241;43m=\u001b[39;49m\u001b[43mn_jobs\u001b[49m\u001b[43m,\u001b[49m\n\u001b[0;32m    517\u001b[0m \u001b[43m    \u001b[49m\u001b[43mverbose\u001b[49m\u001b[38;5;241;43m=\u001b[39;49m\u001b[43mverbose\u001b[49m\u001b[43m,\u001b[49m\n\u001b[0;32m    518\u001b[0m \u001b[43m    \u001b[49m\u001b[43mfit_params\u001b[49m\u001b[38;5;241;43m=\u001b[39;49m\u001b[43mfit_params\u001b[49m\u001b[43m,\u001b[49m\n\u001b[0;32m    519\u001b[0m \u001b[43m    \u001b[49m\u001b[43mpre_dispatch\u001b[49m\u001b[38;5;241;43m=\u001b[39;49m\u001b[43mpre_dispatch\u001b[49m\u001b[43m,\u001b[49m\n\u001b[0;32m    520\u001b[0m \u001b[43m    \u001b[49m\u001b[43merror_score\u001b[49m\u001b[38;5;241;43m=\u001b[39;49m\u001b[43merror_score\u001b[49m\u001b[43m,\u001b[49m\n\u001b[0;32m    521\u001b[0m \u001b[43m\u001b[49m\u001b[43m)\u001b[49m\n\u001b[0;32m    522\u001b[0m \u001b[38;5;28;01mreturn\u001b[39;00m cv_results[\u001b[38;5;124m\"\u001b[39m\u001b[38;5;124mtest_score\u001b[39m\u001b[38;5;124m\"\u001b[39m]\n",
      "File \u001b[1;32m~\\anaconda3\\lib\\site-packages\\sklearn\\model_selection\\_validation.py:267\u001b[0m, in \u001b[0;36mcross_validate\u001b[1;34m(estimator, X, y, groups, scoring, cv, n_jobs, verbose, fit_params, pre_dispatch, return_train_score, return_estimator, error_score)\u001b[0m\n\u001b[0;32m    264\u001b[0m \u001b[38;5;66;03m# We clone the estimator to make sure that all the folds are\u001b[39;00m\n\u001b[0;32m    265\u001b[0m \u001b[38;5;66;03m# independent, and that it is pickle-able.\u001b[39;00m\n\u001b[0;32m    266\u001b[0m parallel \u001b[38;5;241m=\u001b[39m Parallel(n_jobs\u001b[38;5;241m=\u001b[39mn_jobs, verbose\u001b[38;5;241m=\u001b[39mverbose, pre_dispatch\u001b[38;5;241m=\u001b[39mpre_dispatch)\n\u001b[1;32m--> 267\u001b[0m results \u001b[38;5;241m=\u001b[39m \u001b[43mparallel\u001b[49m\u001b[43m(\u001b[49m\n\u001b[0;32m    268\u001b[0m \u001b[43m    \u001b[49m\u001b[43mdelayed\u001b[49m\u001b[43m(\u001b[49m\u001b[43m_fit_and_score\u001b[49m\u001b[43m)\u001b[49m\u001b[43m(\u001b[49m\n\u001b[0;32m    269\u001b[0m \u001b[43m        \u001b[49m\u001b[43mclone\u001b[49m\u001b[43m(\u001b[49m\u001b[43mestimator\u001b[49m\u001b[43m)\u001b[49m\u001b[43m,\u001b[49m\n\u001b[0;32m    270\u001b[0m \u001b[43m        \u001b[49m\u001b[43mX\u001b[49m\u001b[43m,\u001b[49m\n\u001b[0;32m    271\u001b[0m \u001b[43m        \u001b[49m\u001b[43my\u001b[49m\u001b[43m,\u001b[49m\n\u001b[0;32m    272\u001b[0m \u001b[43m        \u001b[49m\u001b[43mscorers\u001b[49m\u001b[43m,\u001b[49m\n\u001b[0;32m    273\u001b[0m \u001b[43m        \u001b[49m\u001b[43mtrain\u001b[49m\u001b[43m,\u001b[49m\n\u001b[0;32m    274\u001b[0m \u001b[43m        \u001b[49m\u001b[43mtest\u001b[49m\u001b[43m,\u001b[49m\n\u001b[0;32m    275\u001b[0m \u001b[43m        \u001b[49m\u001b[43mverbose\u001b[49m\u001b[43m,\u001b[49m\n\u001b[0;32m    276\u001b[0m \u001b[43m        \u001b[49m\u001b[38;5;28;43;01mNone\u001b[39;49;00m\u001b[43m,\u001b[49m\n\u001b[0;32m    277\u001b[0m \u001b[43m        \u001b[49m\u001b[43mfit_params\u001b[49m\u001b[43m,\u001b[49m\n\u001b[0;32m    278\u001b[0m \u001b[43m        \u001b[49m\u001b[43mreturn_train_score\u001b[49m\u001b[38;5;241;43m=\u001b[39;49m\u001b[43mreturn_train_score\u001b[49m\u001b[43m,\u001b[49m\n\u001b[0;32m    279\u001b[0m \u001b[43m        \u001b[49m\u001b[43mreturn_times\u001b[49m\u001b[38;5;241;43m=\u001b[39;49m\u001b[38;5;28;43;01mTrue\u001b[39;49;00m\u001b[43m,\u001b[49m\n\u001b[0;32m    280\u001b[0m \u001b[43m        \u001b[49m\u001b[43mreturn_estimator\u001b[49m\u001b[38;5;241;43m=\u001b[39;49m\u001b[43mreturn_estimator\u001b[49m\u001b[43m,\u001b[49m\n\u001b[0;32m    281\u001b[0m \u001b[43m        \u001b[49m\u001b[43merror_score\u001b[49m\u001b[38;5;241;43m=\u001b[39;49m\u001b[43merror_score\u001b[49m\u001b[43m,\u001b[49m\n\u001b[0;32m    282\u001b[0m \u001b[43m    \u001b[49m\u001b[43m)\u001b[49m\n\u001b[0;32m    283\u001b[0m \u001b[43m    \u001b[49m\u001b[38;5;28;43;01mfor\u001b[39;49;00m\u001b[43m \u001b[49m\u001b[43mtrain\u001b[49m\u001b[43m,\u001b[49m\u001b[43m \u001b[49m\u001b[43mtest\u001b[49m\u001b[43m \u001b[49m\u001b[38;5;129;43;01min\u001b[39;49;00m\u001b[43m \u001b[49m\u001b[43mcv\u001b[49m\u001b[38;5;241;43m.\u001b[39;49m\u001b[43msplit\u001b[49m\u001b[43m(\u001b[49m\u001b[43mX\u001b[49m\u001b[43m,\u001b[49m\u001b[43m \u001b[49m\u001b[43my\u001b[49m\u001b[43m,\u001b[49m\u001b[43m \u001b[49m\u001b[43mgroups\u001b[49m\u001b[43m)\u001b[49m\n\u001b[0;32m    284\u001b[0m \u001b[43m\u001b[49m\u001b[43m)\u001b[49m\n\u001b[0;32m    286\u001b[0m _warn_about_fit_failures(results, error_score)\n\u001b[0;32m    288\u001b[0m \u001b[38;5;66;03m# For callabe scoring, the return type is only know after calling. If the\u001b[39;00m\n\u001b[0;32m    289\u001b[0m \u001b[38;5;66;03m# return type is a dictionary, the error scores can now be inserted with\u001b[39;00m\n\u001b[0;32m    290\u001b[0m \u001b[38;5;66;03m# the correct key.\u001b[39;00m\n",
      "File \u001b[1;32m~\\anaconda3\\lib\\site-packages\\joblib\\parallel.py:1046\u001b[0m, in \u001b[0;36mParallel.__call__\u001b[1;34m(self, iterable)\u001b[0m\n\u001b[0;32m   1043\u001b[0m \u001b[38;5;28;01mif\u001b[39;00m \u001b[38;5;28mself\u001b[39m\u001b[38;5;241m.\u001b[39mdispatch_one_batch(iterator):\n\u001b[0;32m   1044\u001b[0m     \u001b[38;5;28mself\u001b[39m\u001b[38;5;241m.\u001b[39m_iterating \u001b[38;5;241m=\u001b[39m \u001b[38;5;28mself\u001b[39m\u001b[38;5;241m.\u001b[39m_original_iterator \u001b[38;5;129;01mis\u001b[39;00m \u001b[38;5;129;01mnot\u001b[39;00m \u001b[38;5;28;01mNone\u001b[39;00m\n\u001b[1;32m-> 1046\u001b[0m \u001b[38;5;28;01mwhile\u001b[39;00m \u001b[38;5;28;43mself\u001b[39;49m\u001b[38;5;241;43m.\u001b[39;49m\u001b[43mdispatch_one_batch\u001b[49m\u001b[43m(\u001b[49m\u001b[43miterator\u001b[49m\u001b[43m)\u001b[49m:\n\u001b[0;32m   1047\u001b[0m     \u001b[38;5;28;01mpass\u001b[39;00m\n\u001b[0;32m   1049\u001b[0m \u001b[38;5;28;01mif\u001b[39;00m pre_dispatch \u001b[38;5;241m==\u001b[39m \u001b[38;5;124m\"\u001b[39m\u001b[38;5;124mall\u001b[39m\u001b[38;5;124m\"\u001b[39m \u001b[38;5;129;01mor\u001b[39;00m n_jobs \u001b[38;5;241m==\u001b[39m \u001b[38;5;241m1\u001b[39m:\n\u001b[0;32m   1050\u001b[0m     \u001b[38;5;66;03m# The iterable was consumed all at once by the above for loop.\u001b[39;00m\n\u001b[0;32m   1051\u001b[0m     \u001b[38;5;66;03m# No need to wait for async callbacks to trigger to\u001b[39;00m\n\u001b[0;32m   1052\u001b[0m     \u001b[38;5;66;03m# consumption.\u001b[39;00m\n",
      "File \u001b[1;32m~\\anaconda3\\lib\\site-packages\\joblib\\parallel.py:861\u001b[0m, in \u001b[0;36mParallel.dispatch_one_batch\u001b[1;34m(self, iterator)\u001b[0m\n\u001b[0;32m    859\u001b[0m     \u001b[38;5;28;01mreturn\u001b[39;00m \u001b[38;5;28;01mFalse\u001b[39;00m\n\u001b[0;32m    860\u001b[0m \u001b[38;5;28;01melse\u001b[39;00m:\n\u001b[1;32m--> 861\u001b[0m     \u001b[38;5;28;43mself\u001b[39;49m\u001b[38;5;241;43m.\u001b[39;49m\u001b[43m_dispatch\u001b[49m\u001b[43m(\u001b[49m\u001b[43mtasks\u001b[49m\u001b[43m)\u001b[49m\n\u001b[0;32m    862\u001b[0m     \u001b[38;5;28;01mreturn\u001b[39;00m \u001b[38;5;28;01mTrue\u001b[39;00m\n",
      "File \u001b[1;32m~\\anaconda3\\lib\\site-packages\\joblib\\parallel.py:779\u001b[0m, in \u001b[0;36mParallel._dispatch\u001b[1;34m(self, batch)\u001b[0m\n\u001b[0;32m    777\u001b[0m \u001b[38;5;28;01mwith\u001b[39;00m \u001b[38;5;28mself\u001b[39m\u001b[38;5;241m.\u001b[39m_lock:\n\u001b[0;32m    778\u001b[0m     job_idx \u001b[38;5;241m=\u001b[39m \u001b[38;5;28mlen\u001b[39m(\u001b[38;5;28mself\u001b[39m\u001b[38;5;241m.\u001b[39m_jobs)\n\u001b[1;32m--> 779\u001b[0m     job \u001b[38;5;241m=\u001b[39m \u001b[38;5;28;43mself\u001b[39;49m\u001b[38;5;241;43m.\u001b[39;49m\u001b[43m_backend\u001b[49m\u001b[38;5;241;43m.\u001b[39;49m\u001b[43mapply_async\u001b[49m\u001b[43m(\u001b[49m\u001b[43mbatch\u001b[49m\u001b[43m,\u001b[49m\u001b[43m \u001b[49m\u001b[43mcallback\u001b[49m\u001b[38;5;241;43m=\u001b[39;49m\u001b[43mcb\u001b[49m\u001b[43m)\u001b[49m\n\u001b[0;32m    780\u001b[0m     \u001b[38;5;66;03m# A job can complete so quickly than its callback is\u001b[39;00m\n\u001b[0;32m    781\u001b[0m     \u001b[38;5;66;03m# called before we get here, causing self._jobs to\u001b[39;00m\n\u001b[0;32m    782\u001b[0m     \u001b[38;5;66;03m# grow. To ensure correct results ordering, .insert is\u001b[39;00m\n\u001b[0;32m    783\u001b[0m     \u001b[38;5;66;03m# used (rather than .append) in the following line\u001b[39;00m\n\u001b[0;32m    784\u001b[0m     \u001b[38;5;28mself\u001b[39m\u001b[38;5;241m.\u001b[39m_jobs\u001b[38;5;241m.\u001b[39minsert(job_idx, job)\n",
      "File \u001b[1;32m~\\anaconda3\\lib\\site-packages\\joblib\\_parallel_backends.py:208\u001b[0m, in \u001b[0;36mSequentialBackend.apply_async\u001b[1;34m(self, func, callback)\u001b[0m\n\u001b[0;32m    206\u001b[0m \u001b[38;5;28;01mdef\u001b[39;00m \u001b[38;5;21mapply_async\u001b[39m(\u001b[38;5;28mself\u001b[39m, func, callback\u001b[38;5;241m=\u001b[39m\u001b[38;5;28;01mNone\u001b[39;00m):\n\u001b[0;32m    207\u001b[0m     \u001b[38;5;124;03m\"\"\"Schedule a func to be run\"\"\"\u001b[39;00m\n\u001b[1;32m--> 208\u001b[0m     result \u001b[38;5;241m=\u001b[39m \u001b[43mImmediateResult\u001b[49m\u001b[43m(\u001b[49m\u001b[43mfunc\u001b[49m\u001b[43m)\u001b[49m\n\u001b[0;32m    209\u001b[0m     \u001b[38;5;28;01mif\u001b[39;00m callback:\n\u001b[0;32m    210\u001b[0m         callback(result)\n",
      "File \u001b[1;32m~\\anaconda3\\lib\\site-packages\\joblib\\_parallel_backends.py:572\u001b[0m, in \u001b[0;36mImmediateResult.__init__\u001b[1;34m(self, batch)\u001b[0m\n\u001b[0;32m    569\u001b[0m \u001b[38;5;28;01mdef\u001b[39;00m \u001b[38;5;21m__init__\u001b[39m(\u001b[38;5;28mself\u001b[39m, batch):\n\u001b[0;32m    570\u001b[0m     \u001b[38;5;66;03m# Don't delay the application, to avoid keeping the input\u001b[39;00m\n\u001b[0;32m    571\u001b[0m     \u001b[38;5;66;03m# arguments in memory\u001b[39;00m\n\u001b[1;32m--> 572\u001b[0m     \u001b[38;5;28mself\u001b[39m\u001b[38;5;241m.\u001b[39mresults \u001b[38;5;241m=\u001b[39m \u001b[43mbatch\u001b[49m\u001b[43m(\u001b[49m\u001b[43m)\u001b[49m\n",
      "File \u001b[1;32m~\\anaconda3\\lib\\site-packages\\joblib\\parallel.py:262\u001b[0m, in \u001b[0;36mBatchedCalls.__call__\u001b[1;34m(self)\u001b[0m\n\u001b[0;32m    258\u001b[0m \u001b[38;5;28;01mdef\u001b[39;00m \u001b[38;5;21m__call__\u001b[39m(\u001b[38;5;28mself\u001b[39m):\n\u001b[0;32m    259\u001b[0m     \u001b[38;5;66;03m# Set the default nested backend to self._backend but do not set the\u001b[39;00m\n\u001b[0;32m    260\u001b[0m     \u001b[38;5;66;03m# change the default number of processes to -1\u001b[39;00m\n\u001b[0;32m    261\u001b[0m     \u001b[38;5;28;01mwith\u001b[39;00m parallel_backend(\u001b[38;5;28mself\u001b[39m\u001b[38;5;241m.\u001b[39m_backend, n_jobs\u001b[38;5;241m=\u001b[39m\u001b[38;5;28mself\u001b[39m\u001b[38;5;241m.\u001b[39m_n_jobs):\n\u001b[1;32m--> 262\u001b[0m         \u001b[38;5;28;01mreturn\u001b[39;00m [func(\u001b[38;5;241m*\u001b[39margs, \u001b[38;5;241m*\u001b[39m\u001b[38;5;241m*\u001b[39mkwargs)\n\u001b[0;32m    263\u001b[0m                 \u001b[38;5;28;01mfor\u001b[39;00m func, args, kwargs \u001b[38;5;129;01min\u001b[39;00m \u001b[38;5;28mself\u001b[39m\u001b[38;5;241m.\u001b[39mitems]\n",
      "File \u001b[1;32m~\\anaconda3\\lib\\site-packages\\joblib\\parallel.py:262\u001b[0m, in \u001b[0;36m<listcomp>\u001b[1;34m(.0)\u001b[0m\n\u001b[0;32m    258\u001b[0m \u001b[38;5;28;01mdef\u001b[39;00m \u001b[38;5;21m__call__\u001b[39m(\u001b[38;5;28mself\u001b[39m):\n\u001b[0;32m    259\u001b[0m     \u001b[38;5;66;03m# Set the default nested backend to self._backend but do not set the\u001b[39;00m\n\u001b[0;32m    260\u001b[0m     \u001b[38;5;66;03m# change the default number of processes to -1\u001b[39;00m\n\u001b[0;32m    261\u001b[0m     \u001b[38;5;28;01mwith\u001b[39;00m parallel_backend(\u001b[38;5;28mself\u001b[39m\u001b[38;5;241m.\u001b[39m_backend, n_jobs\u001b[38;5;241m=\u001b[39m\u001b[38;5;28mself\u001b[39m\u001b[38;5;241m.\u001b[39m_n_jobs):\n\u001b[1;32m--> 262\u001b[0m         \u001b[38;5;28;01mreturn\u001b[39;00m [func(\u001b[38;5;241m*\u001b[39margs, \u001b[38;5;241m*\u001b[39m\u001b[38;5;241m*\u001b[39mkwargs)\n\u001b[0;32m    263\u001b[0m                 \u001b[38;5;28;01mfor\u001b[39;00m func, args, kwargs \u001b[38;5;129;01min\u001b[39;00m \u001b[38;5;28mself\u001b[39m\u001b[38;5;241m.\u001b[39mitems]\n",
      "File \u001b[1;32m~\\anaconda3\\lib\\site-packages\\sklearn\\utils\\fixes.py:216\u001b[0m, in \u001b[0;36m_FuncWrapper.__call__\u001b[1;34m(self, *args, **kwargs)\u001b[0m\n\u001b[0;32m    214\u001b[0m \u001b[38;5;28;01mdef\u001b[39;00m \u001b[38;5;21m__call__\u001b[39m(\u001b[38;5;28mself\u001b[39m, \u001b[38;5;241m*\u001b[39margs, \u001b[38;5;241m*\u001b[39m\u001b[38;5;241m*\u001b[39mkwargs):\n\u001b[0;32m    215\u001b[0m     \u001b[38;5;28;01mwith\u001b[39;00m config_context(\u001b[38;5;241m*\u001b[39m\u001b[38;5;241m*\u001b[39m\u001b[38;5;28mself\u001b[39m\u001b[38;5;241m.\u001b[39mconfig):\n\u001b[1;32m--> 216\u001b[0m         \u001b[38;5;28;01mreturn\u001b[39;00m \u001b[38;5;28mself\u001b[39m\u001b[38;5;241m.\u001b[39mfunction(\u001b[38;5;241m*\u001b[39margs, \u001b[38;5;241m*\u001b[39m\u001b[38;5;241m*\u001b[39mkwargs)\n",
      "File \u001b[1;32m~\\anaconda3\\lib\\site-packages\\sklearn\\model_selection\\_validation.py:702\u001b[0m, in \u001b[0;36m_fit_and_score\u001b[1;34m(estimator, X, y, scorer, train, test, verbose, parameters, fit_params, return_train_score, return_parameters, return_n_test_samples, return_times, return_estimator, split_progress, candidate_progress, error_score)\u001b[0m\n\u001b[0;32m    699\u001b[0m result[\u001b[38;5;124m\"\u001b[39m\u001b[38;5;124mfit_error\u001b[39m\u001b[38;5;124m\"\u001b[39m] \u001b[38;5;241m=\u001b[39m \u001b[38;5;28;01mNone\u001b[39;00m\n\u001b[0;32m    701\u001b[0m fit_time \u001b[38;5;241m=\u001b[39m time\u001b[38;5;241m.\u001b[39mtime() \u001b[38;5;241m-\u001b[39m start_time\n\u001b[1;32m--> 702\u001b[0m test_scores \u001b[38;5;241m=\u001b[39m \u001b[43m_score\u001b[49m\u001b[43m(\u001b[49m\u001b[43mestimator\u001b[49m\u001b[43m,\u001b[49m\u001b[43m \u001b[49m\u001b[43mX_test\u001b[49m\u001b[43m,\u001b[49m\u001b[43m \u001b[49m\u001b[43my_test\u001b[49m\u001b[43m,\u001b[49m\u001b[43m \u001b[49m\u001b[43mscorer\u001b[49m\u001b[43m,\u001b[49m\u001b[43m \u001b[49m\u001b[43merror_score\u001b[49m\u001b[43m)\u001b[49m\n\u001b[0;32m    703\u001b[0m score_time \u001b[38;5;241m=\u001b[39m time\u001b[38;5;241m.\u001b[39mtime() \u001b[38;5;241m-\u001b[39m start_time \u001b[38;5;241m-\u001b[39m fit_time\n\u001b[0;32m    704\u001b[0m \u001b[38;5;28;01mif\u001b[39;00m return_train_score:\n",
      "File \u001b[1;32m~\\anaconda3\\lib\\site-packages\\sklearn\\model_selection\\_validation.py:761\u001b[0m, in \u001b[0;36m_score\u001b[1;34m(estimator, X_test, y_test, scorer, error_score)\u001b[0m\n\u001b[0;32m    759\u001b[0m         scores \u001b[38;5;241m=\u001b[39m scorer(estimator, X_test)\n\u001b[0;32m    760\u001b[0m     \u001b[38;5;28;01melse\u001b[39;00m:\n\u001b[1;32m--> 761\u001b[0m         scores \u001b[38;5;241m=\u001b[39m \u001b[43mscorer\u001b[49m\u001b[43m(\u001b[49m\u001b[43mestimator\u001b[49m\u001b[43m,\u001b[49m\u001b[43m \u001b[49m\u001b[43mX_test\u001b[49m\u001b[43m,\u001b[49m\u001b[43m \u001b[49m\u001b[43my_test\u001b[49m\u001b[43m)\u001b[49m\n\u001b[0;32m    762\u001b[0m \u001b[38;5;28;01mexcept\u001b[39;00m \u001b[38;5;167;01mException\u001b[39;00m:\n\u001b[0;32m    763\u001b[0m     \u001b[38;5;28;01mif\u001b[39;00m error_score \u001b[38;5;241m==\u001b[39m \u001b[38;5;124m\"\u001b[39m\u001b[38;5;124mraise\u001b[39m\u001b[38;5;124m\"\u001b[39m:\n",
      "File \u001b[1;32m~\\anaconda3\\lib\\site-packages\\sklearn\\metrics\\_scorer.py:103\u001b[0m, in \u001b[0;36m_MultimetricScorer.__call__\u001b[1;34m(self, estimator, *args, **kwargs)\u001b[0m\n\u001b[0;32m    101\u001b[0m \u001b[38;5;28;01mfor\u001b[39;00m name, scorer \u001b[38;5;129;01min\u001b[39;00m \u001b[38;5;28mself\u001b[39m\u001b[38;5;241m.\u001b[39m_scorers\u001b[38;5;241m.\u001b[39mitems():\n\u001b[0;32m    102\u001b[0m     \u001b[38;5;28;01mif\u001b[39;00m \u001b[38;5;28misinstance\u001b[39m(scorer, _BaseScorer):\n\u001b[1;32m--> 103\u001b[0m         score \u001b[38;5;241m=\u001b[39m scorer\u001b[38;5;241m.\u001b[39m_score(cached_call, estimator, \u001b[38;5;241m*\u001b[39margs, \u001b[38;5;241m*\u001b[39m\u001b[38;5;241m*\u001b[39mkwargs)\n\u001b[0;32m    104\u001b[0m     \u001b[38;5;28;01melse\u001b[39;00m:\n\u001b[0;32m    105\u001b[0m         score \u001b[38;5;241m=\u001b[39m scorer(estimator, \u001b[38;5;241m*\u001b[39margs, \u001b[38;5;241m*\u001b[39m\u001b[38;5;241m*\u001b[39mkwargs)\n",
      "File \u001b[1;32m~\\anaconda3\\lib\\site-packages\\sklearn\\metrics\\_scorer.py:258\u001b[0m, in \u001b[0;36m_PredictScorer._score\u001b[1;34m(self, method_caller, estimator, X, y_true, sample_weight)\u001b[0m\n\u001b[0;32m    230\u001b[0m \u001b[38;5;28;01mdef\u001b[39;00m \u001b[38;5;21m_score\u001b[39m(\u001b[38;5;28mself\u001b[39m, method_caller, estimator, X, y_true, sample_weight\u001b[38;5;241m=\u001b[39m\u001b[38;5;28;01mNone\u001b[39;00m):\n\u001b[0;32m    231\u001b[0m     \u001b[38;5;124;03m\"\"\"Evaluate predicted target values for X relative to y_true.\u001b[39;00m\n\u001b[0;32m    232\u001b[0m \n\u001b[0;32m    233\u001b[0m \u001b[38;5;124;03m    Parameters\u001b[39;00m\n\u001b[1;32m   (...)\u001b[0m\n\u001b[0;32m    255\u001b[0m \u001b[38;5;124;03m        Score function applied to prediction of estimator on X.\u001b[39;00m\n\u001b[0;32m    256\u001b[0m \u001b[38;5;124;03m    \"\"\"\u001b[39;00m\n\u001b[1;32m--> 258\u001b[0m     y_pred \u001b[38;5;241m=\u001b[39m \u001b[43mmethod_caller\u001b[49m\u001b[43m(\u001b[49m\u001b[43mestimator\u001b[49m\u001b[43m,\u001b[49m\u001b[43m \u001b[49m\u001b[38;5;124;43m\"\u001b[39;49m\u001b[38;5;124;43mpredict\u001b[39;49m\u001b[38;5;124;43m\"\u001b[39;49m\u001b[43m,\u001b[49m\u001b[43m \u001b[49m\u001b[43mX\u001b[49m\u001b[43m)\u001b[49m\n\u001b[0;32m    259\u001b[0m     \u001b[38;5;28;01mif\u001b[39;00m sample_weight \u001b[38;5;129;01mis\u001b[39;00m \u001b[38;5;129;01mnot\u001b[39;00m \u001b[38;5;28;01mNone\u001b[39;00m:\n\u001b[0;32m    260\u001b[0m         \u001b[38;5;28;01mreturn\u001b[39;00m \u001b[38;5;28mself\u001b[39m\u001b[38;5;241m.\u001b[39m_sign \u001b[38;5;241m*\u001b[39m \u001b[38;5;28mself\u001b[39m\u001b[38;5;241m.\u001b[39m_score_func(\n\u001b[0;32m    261\u001b[0m             y_true, y_pred, sample_weight\u001b[38;5;241m=\u001b[39msample_weight, \u001b[38;5;241m*\u001b[39m\u001b[38;5;241m*\u001b[39m\u001b[38;5;28mself\u001b[39m\u001b[38;5;241m.\u001b[39m_kwargs\n\u001b[0;32m    262\u001b[0m         )\n",
      "File \u001b[1;32m~\\anaconda3\\lib\\site-packages\\sklearn\\metrics\\_scorer.py:68\u001b[0m, in \u001b[0;36m_cached_call\u001b[1;34m(cache, estimator, method, *args, **kwargs)\u001b[0m\n\u001b[0;32m     66\u001b[0m \u001b[38;5;124;03m\"\"\"Call estimator with method and args and kwargs.\"\"\"\u001b[39;00m\n\u001b[0;32m     67\u001b[0m \u001b[38;5;28;01mif\u001b[39;00m cache \u001b[38;5;129;01mis\u001b[39;00m \u001b[38;5;28;01mNone\u001b[39;00m:\n\u001b[1;32m---> 68\u001b[0m     \u001b[38;5;28;01mreturn\u001b[39;00m \u001b[38;5;28mgetattr\u001b[39m(estimator, method)(\u001b[38;5;241m*\u001b[39margs, \u001b[38;5;241m*\u001b[39m\u001b[38;5;241m*\u001b[39mkwargs)\n\u001b[0;32m     70\u001b[0m \u001b[38;5;28;01mtry\u001b[39;00m:\n\u001b[0;32m     71\u001b[0m     \u001b[38;5;28;01mreturn\u001b[39;00m cache[method]\n",
      "File \u001b[1;32m~\\anaconda3\\lib\\site-packages\\sklearn\\neighbors\\_regression.py:229\u001b[0m, in \u001b[0;36mKNeighborsRegressor.predict\u001b[1;34m(self, X)\u001b[0m\n\u001b[0;32m    215\u001b[0m \u001b[38;5;28;01mdef\u001b[39;00m \u001b[38;5;21mpredict\u001b[39m(\u001b[38;5;28mself\u001b[39m, X):\n\u001b[0;32m    216\u001b[0m     \u001b[38;5;124;03m\"\"\"Predict the target for the provided data.\u001b[39;00m\n\u001b[0;32m    217\u001b[0m \n\u001b[0;32m    218\u001b[0m \u001b[38;5;124;03m    Parameters\u001b[39;00m\n\u001b[1;32m   (...)\u001b[0m\n\u001b[0;32m    227\u001b[0m \u001b[38;5;124;03m        Target values.\u001b[39;00m\n\u001b[0;32m    228\u001b[0m \u001b[38;5;124;03m    \"\"\"\u001b[39;00m\n\u001b[1;32m--> 229\u001b[0m     neigh_dist, neigh_ind \u001b[38;5;241m=\u001b[39m \u001b[38;5;28;43mself\u001b[39;49m\u001b[38;5;241;43m.\u001b[39;49m\u001b[43mkneighbors\u001b[49m\u001b[43m(\u001b[49m\u001b[43mX\u001b[49m\u001b[43m)\u001b[49m\n\u001b[0;32m    231\u001b[0m     weights \u001b[38;5;241m=\u001b[39m _get_weights(neigh_dist, \u001b[38;5;28mself\u001b[39m\u001b[38;5;241m.\u001b[39mweights)\n\u001b[0;32m    233\u001b[0m     _y \u001b[38;5;241m=\u001b[39m \u001b[38;5;28mself\u001b[39m\u001b[38;5;241m.\u001b[39m_y\n",
      "File \u001b[1;32m~\\anaconda3\\lib\\site-packages\\sklearn\\neighbors\\_base.py:752\u001b[0m, in \u001b[0;36mKNeighborsMixin.kneighbors\u001b[1;34m(self, X, n_neighbors, return_distance)\u001b[0m\n\u001b[0;32m    749\u001b[0m     \u001b[38;5;28;01melse\u001b[39;00m:\n\u001b[0;32m    750\u001b[0m         kwds \u001b[38;5;241m=\u001b[39m \u001b[38;5;28mself\u001b[39m\u001b[38;5;241m.\u001b[39meffective_metric_params_\n\u001b[1;32m--> 752\u001b[0m     chunked_results \u001b[38;5;241m=\u001b[39m \u001b[38;5;28;43mlist\u001b[39;49m\u001b[43m(\u001b[49m\n\u001b[0;32m    753\u001b[0m \u001b[43m        \u001b[49m\u001b[43mpairwise_distances_chunked\u001b[49m\u001b[43m(\u001b[49m\n\u001b[0;32m    754\u001b[0m \u001b[43m            \u001b[49m\u001b[43mX\u001b[49m\u001b[43m,\u001b[49m\n\u001b[0;32m    755\u001b[0m \u001b[43m            \u001b[49m\u001b[38;5;28;43mself\u001b[39;49m\u001b[38;5;241;43m.\u001b[39;49m\u001b[43m_fit_X\u001b[49m\u001b[43m,\u001b[49m\n\u001b[0;32m    756\u001b[0m \u001b[43m            \u001b[49m\u001b[43mreduce_func\u001b[49m\u001b[38;5;241;43m=\u001b[39;49m\u001b[43mreduce_func\u001b[49m\u001b[43m,\u001b[49m\n\u001b[0;32m    757\u001b[0m \u001b[43m            \u001b[49m\u001b[43mmetric\u001b[49m\u001b[38;5;241;43m=\u001b[39;49m\u001b[38;5;28;43mself\u001b[39;49m\u001b[38;5;241;43m.\u001b[39;49m\u001b[43meffective_metric_\u001b[49m\u001b[43m,\u001b[49m\n\u001b[0;32m    758\u001b[0m \u001b[43m            \u001b[49m\u001b[43mn_jobs\u001b[49m\u001b[38;5;241;43m=\u001b[39;49m\u001b[43mn_jobs\u001b[49m\u001b[43m,\u001b[49m\n\u001b[0;32m    759\u001b[0m \u001b[43m            \u001b[49m\u001b[38;5;241;43m*\u001b[39;49m\u001b[38;5;241;43m*\u001b[39;49m\u001b[43mkwds\u001b[49m\u001b[43m,\u001b[49m\n\u001b[0;32m    760\u001b[0m \u001b[43m        \u001b[49m\u001b[43m)\u001b[49m\n\u001b[0;32m    761\u001b[0m \u001b[43m    \u001b[49m\u001b[43m)\u001b[49m\n\u001b[0;32m    763\u001b[0m \u001b[38;5;28;01melif\u001b[39;00m \u001b[38;5;28mself\u001b[39m\u001b[38;5;241m.\u001b[39m_fit_method \u001b[38;5;129;01min\u001b[39;00m [\u001b[38;5;124m\"\u001b[39m\u001b[38;5;124mball_tree\u001b[39m\u001b[38;5;124m\"\u001b[39m, \u001b[38;5;124m\"\u001b[39m\u001b[38;5;124mkd_tree\u001b[39m\u001b[38;5;124m\"\u001b[39m]:\n\u001b[0;32m    764\u001b[0m     \u001b[38;5;28;01mif\u001b[39;00m issparse(X):\n",
      "File \u001b[1;32m~\\anaconda3\\lib\\site-packages\\sklearn\\metrics\\pairwise.py:1717\u001b[0m, in \u001b[0;36mpairwise_distances_chunked\u001b[1;34m(X, Y, reduce_func, metric, n_jobs, working_memory, **kwds)\u001b[0m\n\u001b[0;32m   1715\u001b[0m \u001b[38;5;28;01melse\u001b[39;00m:\n\u001b[0;32m   1716\u001b[0m     X_chunk \u001b[38;5;241m=\u001b[39m X[sl]\n\u001b[1;32m-> 1717\u001b[0m D_chunk \u001b[38;5;241m=\u001b[39m pairwise_distances(X_chunk, Y, metric\u001b[38;5;241m=\u001b[39mmetric, n_jobs\u001b[38;5;241m=\u001b[39mn_jobs, \u001b[38;5;241m*\u001b[39m\u001b[38;5;241m*\u001b[39mkwds)\n\u001b[0;32m   1718\u001b[0m \u001b[38;5;28;01mif\u001b[39;00m (X \u001b[38;5;129;01mis\u001b[39;00m Y \u001b[38;5;129;01mor\u001b[39;00m Y \u001b[38;5;129;01mis\u001b[39;00m \u001b[38;5;28;01mNone\u001b[39;00m) \u001b[38;5;129;01mand\u001b[39;00m PAIRWISE_DISTANCE_FUNCTIONS\u001b[38;5;241m.\u001b[39mget(\n\u001b[0;32m   1719\u001b[0m     metric, \u001b[38;5;28;01mNone\u001b[39;00m\n\u001b[0;32m   1720\u001b[0m ) \u001b[38;5;129;01mis\u001b[39;00m euclidean_distances:\n\u001b[0;32m   1721\u001b[0m     \u001b[38;5;66;03m# zeroing diagonal, taking care of aliases of \"euclidean\",\u001b[39;00m\n\u001b[0;32m   1722\u001b[0m     \u001b[38;5;66;03m# i.e. \"l2\"\u001b[39;00m\n\u001b[0;32m   1723\u001b[0m     D_chunk\u001b[38;5;241m.\u001b[39mflat[sl\u001b[38;5;241m.\u001b[39mstart :: _num_samples(X) \u001b[38;5;241m+\u001b[39m \u001b[38;5;241m1\u001b[39m] \u001b[38;5;241m=\u001b[39m \u001b[38;5;241m0\u001b[39m\n",
      "File \u001b[1;32m~\\anaconda3\\lib\\site-packages\\sklearn\\metrics\\pairwise.py:1889\u001b[0m, in \u001b[0;36mpairwise_distances\u001b[1;34m(X, Y, metric, n_jobs, force_all_finite, **kwds)\u001b[0m\n\u001b[0;32m   1886\u001b[0m         \u001b[38;5;28;01mreturn\u001b[39;00m distance\u001b[38;5;241m.\u001b[39msquareform(distance\u001b[38;5;241m.\u001b[39mpdist(X, metric\u001b[38;5;241m=\u001b[39mmetric, \u001b[38;5;241m*\u001b[39m\u001b[38;5;241m*\u001b[39mkwds))\n\u001b[0;32m   1887\u001b[0m     func \u001b[38;5;241m=\u001b[39m partial(distance\u001b[38;5;241m.\u001b[39mcdist, metric\u001b[38;5;241m=\u001b[39mmetric, \u001b[38;5;241m*\u001b[39m\u001b[38;5;241m*\u001b[39mkwds)\n\u001b[1;32m-> 1889\u001b[0m \u001b[38;5;28;01mreturn\u001b[39;00m _parallel_pairwise(X, Y, func, n_jobs, \u001b[38;5;241m*\u001b[39m\u001b[38;5;241m*\u001b[39mkwds)\n",
      "File \u001b[1;32m~\\anaconda3\\lib\\site-packages\\sklearn\\metrics\\pairwise.py:1430\u001b[0m, in \u001b[0;36m_parallel_pairwise\u001b[1;34m(X, Y, func, n_jobs, **kwds)\u001b[0m\n\u001b[0;32m   1427\u001b[0m X, Y, dtype \u001b[38;5;241m=\u001b[39m _return_float_dtype(X, Y)\n\u001b[0;32m   1429\u001b[0m \u001b[38;5;28;01mif\u001b[39;00m effective_n_jobs(n_jobs) \u001b[38;5;241m==\u001b[39m \u001b[38;5;241m1\u001b[39m:\n\u001b[1;32m-> 1430\u001b[0m     \u001b[38;5;28;01mreturn\u001b[39;00m func(X, Y, \u001b[38;5;241m*\u001b[39m\u001b[38;5;241m*\u001b[39mkwds)\n\u001b[0;32m   1432\u001b[0m \u001b[38;5;66;03m# enforce a threading backend to prevent data communication overhead\u001b[39;00m\n\u001b[0;32m   1433\u001b[0m fd \u001b[38;5;241m=\u001b[39m delayed(_dist_wrapper)\n",
      "File \u001b[1;32m~\\anaconda3\\lib\\site-packages\\sklearn\\metrics\\pairwise.py:330\u001b[0m, in \u001b[0;36meuclidean_distances\u001b[1;34m(X, Y, Y_norm_squared, squared, X_norm_squared)\u001b[0m\n\u001b[0;32m    324\u001b[0m     \u001b[38;5;28;01mif\u001b[39;00m Y_norm_squared\u001b[38;5;241m.\u001b[39mshape \u001b[38;5;241m!=\u001b[39m (\u001b[38;5;241m1\u001b[39m, Y\u001b[38;5;241m.\u001b[39mshape[\u001b[38;5;241m0\u001b[39m]):\n\u001b[0;32m    325\u001b[0m         \u001b[38;5;28;01mraise\u001b[39;00m \u001b[38;5;167;01mValueError\u001b[39;00m(\n\u001b[0;32m    326\u001b[0m             \u001b[38;5;124mf\u001b[39m\u001b[38;5;124m\"\u001b[39m\u001b[38;5;124mIncompatible dimensions for Y of shape \u001b[39m\u001b[38;5;132;01m{\u001b[39;00mY\u001b[38;5;241m.\u001b[39mshape\u001b[38;5;132;01m}\u001b[39;00m\u001b[38;5;124m and \u001b[39m\u001b[38;5;124m\"\u001b[39m\n\u001b[0;32m    327\u001b[0m             \u001b[38;5;124mf\u001b[39m\u001b[38;5;124m\"\u001b[39m\u001b[38;5;124mY_norm_squared of shape \u001b[39m\u001b[38;5;132;01m{\u001b[39;00moriginal_shape\u001b[38;5;132;01m}\u001b[39;00m\u001b[38;5;124m.\u001b[39m\u001b[38;5;124m\"\u001b[39m\n\u001b[0;32m    328\u001b[0m         )\n\u001b[1;32m--> 330\u001b[0m \u001b[38;5;28;01mreturn\u001b[39;00m \u001b[43m_euclidean_distances\u001b[49m\u001b[43m(\u001b[49m\u001b[43mX\u001b[49m\u001b[43m,\u001b[49m\u001b[43m \u001b[49m\u001b[43mY\u001b[49m\u001b[43m,\u001b[49m\u001b[43m \u001b[49m\u001b[43mX_norm_squared\u001b[49m\u001b[43m,\u001b[49m\u001b[43m \u001b[49m\u001b[43mY_norm_squared\u001b[49m\u001b[43m,\u001b[49m\u001b[43m \u001b[49m\u001b[43msquared\u001b[49m\u001b[43m)\u001b[49m\n",
      "File \u001b[1;32m~\\anaconda3\\lib\\site-packages\\sklearn\\metrics\\pairwise.py:374\u001b[0m, in \u001b[0;36m_euclidean_distances\u001b[1;34m(X, Y, X_norm_squared, Y_norm_squared, squared)\u001b[0m\n\u001b[0;32m    372\u001b[0m     distances \u001b[38;5;241m+\u001b[39m\u001b[38;5;241m=\u001b[39m XX\n\u001b[0;32m    373\u001b[0m     distances \u001b[38;5;241m+\u001b[39m\u001b[38;5;241m=\u001b[39m YY\n\u001b[1;32m--> 374\u001b[0m \u001b[43mnp\u001b[49m\u001b[38;5;241;43m.\u001b[39;49m\u001b[43mmaximum\u001b[49m\u001b[43m(\u001b[49m\u001b[43mdistances\u001b[49m\u001b[43m,\u001b[49m\u001b[43m \u001b[49m\u001b[38;5;241;43m0\u001b[39;49m\u001b[43m,\u001b[49m\u001b[43m \u001b[49m\u001b[43mout\u001b[49m\u001b[38;5;241;43m=\u001b[39;49m\u001b[43mdistances\u001b[49m\u001b[43m)\u001b[49m\n\u001b[0;32m    376\u001b[0m \u001b[38;5;66;03m# Ensure that distances between vectors and themselves are set to 0.0.\u001b[39;00m\n\u001b[0;32m    377\u001b[0m \u001b[38;5;66;03m# This may not be the case due to floating point rounding errors.\u001b[39;00m\n\u001b[0;32m    378\u001b[0m \u001b[38;5;28;01mif\u001b[39;00m X \u001b[38;5;129;01mis\u001b[39;00m Y:\n",
      "\u001b[1;31mKeyboardInterrupt\u001b[0m: "
     ]
    }
   ],
   "source": [
    "grade=0\n",
    "scores=[]\n",
    "index=0\n",
    "for i in range(100):\n",
    "\n",
    "    model1=knn(n_neighbors=i+1)\n",
    "    fold =KFold(5)\n",
    "    score=cross_val_score(model1,X,y,cv=fold,scoring='r2')\n",
    "    if np.mean(score) > grade:\n",
    "        grade=np.mean(score)\n",
    "        scores=score\n",
    "        index= i+1\n",
    "print(scores,grade, index)"
   ]
  },
  {
   "cell_type": "code",
   "execution_count": 84,
   "id": "1b9f6bb6",
   "metadata": {},
   "outputs": [],
   "source": [
    "X_train,X_test,y_train,y_test=train_test_split(X,y,train_size=.8)\n",
    "\n",
    "from sklearn.metrics import r2_score\n",
    "model2=Sequential()\n",
    "model2.add(Dense(32,activation='relu'))\n",
    "model2.add(BatchNormalization())\n",
    "model2.add(Dense(16,activation='relu'))\n",
    "model2.add(Dense(1,activation='sigmoid'))\n",
    "model2.compile(optimizer='adam',loss='binary_crossentropy')"
   ]
  },
  {
   "cell_type": "code",
   "execution_count": 85,
   "id": "d6146911",
   "metadata": {},
   "outputs": [
    {
     "name": "stdout",
     "output_type": "stream",
     "text": [
      "Epoch 1/58\n",
      "250/250 [==============================] - 1s 978us/step - loss: 0.7400\n",
      "Epoch 2/58\n",
      "250/250 [==============================] - 0s 979us/step - loss: 0.6938\n",
      "Epoch 3/58\n",
      "250/250 [==============================] - 0s 972us/step - loss: 0.6919\n",
      "Epoch 4/58\n",
      "250/250 [==============================] - 0s 978us/step - loss: 0.6909\n",
      "Epoch 5/58\n",
      "250/250 [==============================] - 0s 973us/step - loss: 0.6904\n",
      "Epoch 6/58\n",
      "250/250 [==============================] - 0s 965us/step - loss: 0.6900\n",
      "Epoch 7/58\n",
      "250/250 [==============================] - 0s 982us/step - loss: 0.6898\n",
      "Epoch 8/58\n",
      "250/250 [==============================] - 0s 988us/step - loss: 0.6896\n",
      "Epoch 9/58\n",
      "250/250 [==============================] - 0s 972us/step - loss: 0.6894\n",
      "Epoch 10/58\n",
      "250/250 [==============================] - 0s 959us/step - loss: 0.6893\n",
      "Epoch 11/58\n",
      "250/250 [==============================] - 0s 973us/step - loss: 0.6892\n",
      "Epoch 12/58\n",
      "250/250 [==============================] - 0s 985us/step - loss: 0.6891\n",
      "Epoch 13/58\n",
      "250/250 [==============================] - 0s 978us/step - loss: 0.6891\n",
      "Epoch 14/58\n",
      "250/250 [==============================] - 0s 985us/step - loss: 0.6890\n",
      "Epoch 15/58\n",
      "250/250 [==============================] - 0s 975us/step - loss: 0.6890\n",
      "Epoch 16/58\n",
      "250/250 [==============================] - 0s 1ms/step - loss: 0.6889\n",
      "Epoch 17/58\n",
      "250/250 [==============================] - 0s 1ms/step - loss: 0.6889\n",
      "Epoch 18/58\n",
      "250/250 [==============================] - 0s 1ms/step - loss: 0.6889\n",
      "Epoch 19/58\n",
      "250/250 [==============================] - 0s 1ms/step - loss: 0.6889\n",
      "Epoch 20/58\n",
      "250/250 [==============================] - 0s 1ms/step - loss: 0.6889\n",
      "Epoch 21/58\n",
      "250/250 [==============================] - 0s 1ms/step - loss: 0.6889\n",
      "Epoch 22/58\n",
      "250/250 [==============================] - 0s 992us/step - loss: 0.6889\n",
      "Epoch 23/58\n",
      "250/250 [==============================] - 0s 1ms/step - loss: 0.6889\n",
      "Epoch 24/58\n",
      "250/250 [==============================] - 0s 1ms/step - loss: 0.6889\n",
      "Epoch 25/58\n",
      "250/250 [==============================] - 0s 997us/step - loss: 0.6889\n",
      "Epoch 26/58\n",
      "250/250 [==============================] - 0s 1ms/step - loss: 0.6888\n",
      "Epoch 27/58\n",
      "250/250 [==============================] - 0s 1ms/step - loss: 0.6888\n",
      "Epoch 28/58\n",
      "250/250 [==============================] - 0s 1ms/step - loss: 0.6888\n",
      "Epoch 29/58\n",
      "250/250 [==============================] - 0s 1ms/step - loss: 0.6888\n",
      "Epoch 30/58\n",
      "250/250 [==============================] - 0s 1ms/step - loss: 0.6888\n",
      "Epoch 31/58\n",
      "250/250 [==============================] - 0s 1ms/step - loss: 0.6889\n",
      "Epoch 32/58\n",
      "250/250 [==============================] - 0s 1ms/step - loss: 0.6888\n",
      "Epoch 33/58\n",
      "250/250 [==============================] - 0s 1ms/step - loss: 0.6888\n",
      "Epoch 34/58\n",
      "250/250 [==============================] - 0s 1ms/step - loss: 0.6888\n",
      "Epoch 35/58\n",
      "250/250 [==============================] - 0s 1ms/step - loss: 0.6888\n",
      "Epoch 36/58\n",
      "250/250 [==============================] - 0s 1ms/step - loss: 0.6888\n",
      "Epoch 37/58\n",
      "250/250 [==============================] - 0s 1ms/step - loss: 0.6888\n",
      "Epoch 38/58\n",
      "250/250 [==============================] - 0s 974us/step - loss: 0.6888\n",
      "Epoch 39/58\n",
      "250/250 [==============================] - 0s 981us/step - loss: 0.6888\n",
      "Epoch 40/58\n",
      "250/250 [==============================] - 0s 993us/step - loss: 0.6888\n",
      "Epoch 41/58\n",
      "250/250 [==============================] - 0s 1ms/step - loss: 0.6888\n",
      "Epoch 42/58\n",
      "250/250 [==============================] - 0s 1ms/step - loss: 0.6888\n",
      "Epoch 43/58\n",
      "250/250 [==============================] - 0s 1ms/step - loss: 0.6888\n",
      "Epoch 44/58\n",
      "250/250 [==============================] - 0s 1ms/step - loss: 0.6888\n",
      "Epoch 45/58\n",
      "250/250 [==============================] - 0s 1ms/step - loss: 0.6888\n",
      "Epoch 46/58\n",
      "250/250 [==============================] - 0s 1ms/step - loss: 0.6888\n",
      "Epoch 47/58\n",
      "250/250 [==============================] - 0s 1ms/step - loss: 0.6888\n",
      "Epoch 48/58\n",
      "250/250 [==============================] - 0s 1ms/step - loss: 0.6888\n",
      "Epoch 49/58\n",
      "250/250 [==============================] - 0s 1ms/step - loss: 0.6888\n",
      "Epoch 50/58\n",
      "250/250 [==============================] - 0s 1ms/step - loss: 0.6888\n",
      "Epoch 51/58\n",
      "250/250 [==============================] - 0s 1ms/step - loss: 0.6888\n",
      "Epoch 52/58\n",
      "250/250 [==============================] - 0s 1ms/step - loss: 0.6888\n",
      "Epoch 53/58\n",
      "250/250 [==============================] - 0s 1ms/step - loss: 0.6888\n",
      "Epoch 54/58\n",
      "250/250 [==============================] - 0s 1ms/step - loss: 0.6888\n",
      "Epoch 55/58\n",
      "250/250 [==============================] - 0s 949us/step - loss: 0.6888\n",
      "Epoch 56/58\n",
      "250/250 [==============================] - 0s 969us/step - loss: 0.6888\n",
      "Epoch 57/58\n",
      "250/250 [==============================] - 0s 956us/step - loss: 0.6888\n",
      "Epoch 58/58\n",
      "250/250 [==============================] - 0s 974us/step - loss: 0.6888\n"
     ]
    },
    {
     "data": {
      "text/plain": [
       "<keras.callbacks.History at 0x217b6f67100>"
      ]
     },
     "execution_count": 85,
     "metadata": {},
     "output_type": "execute_result"
    }
   ],
   "source": [
    "model2.fit(X_train,y_train,epochs=58)"
   ]
  },
  {
   "cell_type": "code",
   "execution_count": 86,
   "id": "a0d425ef",
   "metadata": {},
   "outputs": [
    {
     "name": "stdout",
     "output_type": "stream",
     "text": [
      "63/63 [==============================] - 0s 838us/step - loss: 0.6888\n"
     ]
    },
    {
     "data": {
      "text/plain": [
       "0.6887937784194946"
      ]
     },
     "execution_count": 86,
     "metadata": {},
     "output_type": "execute_result"
    }
   ],
   "source": [
    "model2.evaluate(X_test,y_test)"
   ]
  },
  {
   "cell_type": "code",
   "execution_count": 87,
   "id": "b4df4122",
   "metadata": {},
   "outputs": [
    {
     "name": "stdout",
     "output_type": "stream",
     "text": [
      "63/63 [==============================] - 0s 898us/step\n",
      "0.8237924623837108\n"
     ]
    }
   ],
   "source": [
    "print(r2_score(y_test,model2.predict(X_test)))"
   ]
  },
  {
   "cell_type": "code",
   "execution_count": 61,
   "id": "85f2ebe5",
   "metadata": {},
   "outputs": [],
   "source": [
    "import keras_tuner"
   ]
  },
  {
   "cell_type": "code",
   "execution_count": null,
   "id": "5f435295",
   "metadata": {},
   "outputs": [],
   "source": [
    "def build_model(hp):\n",
    "    model=Sequential()\n",
    "    "
   ]
  },
  {
   "cell_type": "code",
   "execution_count": 62,
   "id": "6cc1e299",
   "metadata": {},
   "outputs": [
    {
     "name": "stdout",
     "output_type": "stream",
     "text": [
      "{'hidden_layer_sizes': (32, 16), 'max_iter': 65}\n"
     ]
    }
   ],
   "source": [
    "mlp=MLPRegressor(activation='relu',batch_size=32)\n",
    "MLP_params={'hidden_layer_sizes':[(8,2),(16,2),(24,2),(32,2),(40,2),(48,2),(56,2),(64,2),(8,4),(16,4),(24,4),(32,4),(40,4),(48,4),(56,4),(64,4),(8,8),(16,8),(24,8),(32,8),(40,8),(48,8),(56,8),(64,8),(16,16),(24,16),(32,16),(40,16),(48,16),(56,16),(64,16)],'max_iter':list(range(60,100,5))}\n",
    "model3=GridSearchCV(mlp,param_grid=MLP_params,scoring='r2')\n",
    "model3.fit(X,y)\n",
    "print(model3.best_params_)"
   ]
  },
  {
   "cell_type": "code",
   "execution_count": 67,
   "id": "83f27aed",
   "metadata": {},
   "outputs": [
    {
     "name": "stdout",
     "output_type": "stream",
     "text": [
      "[0.82003937 0.81630254 0.74489954 0.81785059 0.80342456] 0.8005033220211082\n"
     ]
    }
   ],
   "source": [
    "model4=MLPRegressor(hidden_layer_sizes=(32,16),max_iter=65,activation=\"relu\",batch_size=32)\n",
    "fold =KFold(5)\n",
    "score=cross_val_score(model4,X,y,cv=fold,scoring='r2')\n",
    "print(score,np.mean(score))\n"
   ]
  },
  {
   "cell_type": "code",
   "execution_count": 5,
   "id": "cd239e3d",
   "metadata": {},
   "outputs": [],
   "source": [
    "scaler=StandardScaler()\n",
    "X=scaler.fit_transform(X)"
   ]
  },
  {
   "cell_type": "code",
   "execution_count": 73,
   "id": "e8890ebc",
   "metadata": {},
   "outputs": [
    {
     "name": "stdout",
     "output_type": "stream",
     "text": [
      "{'max_iter': 58}\n"
     ]
    }
   ],
   "source": [
    "mlp=MLPRegressor(activation='relu',batch_size=32,hidden_layer_sizes=(32,16))\n",
    "MLP_params={'max_iter':list(range(40,70,1))}\n",
    "model5=GridSearchCV(mlp,param_grid=MLP_params,scoring='r2')\n",
    "model5.fit(X,y)\n",
    "print(model5.best_params_)"
   ]
  },
  {
   "cell_type": "code",
   "execution_count": 80,
   "id": "901a0613",
   "metadata": {},
   "outputs": [],
   "source": [
    "X_train,X_test,y_train,y_test=train_test_split(X,y,train_size=.8)\n",
    "\n",
    "from sklearn.metrics import r2_score\n",
    "model6=Sequential()\n",
    "model6.add(Dense(32))\n",
    "model6.add(Activation(LeakyReLU()))\n",
    "model6.add(BatchNormalization())\n",
    "model6.add(Dense(16))\n",
    "model6.add(Activation(LeakyReLU()))\n",
    "model6.add(Dense(1,activation='sigmoid'))\n",
    "model6.compile(optimizer='adam',loss='binary_crossentropy')"
   ]
  },
  {
   "cell_type": "code",
   "execution_count": 82,
   "id": "84ed26f8",
   "metadata": {},
   "outputs": [
    {
     "name": "stdout",
     "output_type": "stream",
     "text": [
      "Epoch 1/58\n",
      "250/250 [==============================] - 1s 1ms/step - loss: 0.7130\n",
      "Epoch 2/58\n",
      "250/250 [==============================] - 0s 977us/step - loss: 0.6928\n",
      "Epoch 3/58\n",
      "250/250 [==============================] - 0s 979us/step - loss: 0.6910\n",
      "Epoch 4/58\n",
      "250/250 [==============================] - 0s 1ms/step - loss: 0.6902\n",
      "Epoch 5/58\n",
      "250/250 [==============================] - 0s 1ms/step - loss: 0.6899\n",
      "Epoch 6/58\n",
      "250/250 [==============================] - 0s 984us/step - loss: 0.6896\n",
      "Epoch 7/58\n",
      "250/250 [==============================] - 0s 980us/step - loss: 0.6895\n",
      "Epoch 8/58\n",
      "250/250 [==============================] - 0s 1ms/step - loss: 0.6893\n",
      "Epoch 9/58\n",
      "250/250 [==============================] - 0s 1ms/step - loss: 0.6893\n",
      "Epoch 10/58\n",
      "250/250 [==============================] - 0s 976us/step - loss: 0.6892\n",
      "Epoch 11/58\n",
      "250/250 [==============================] - 0s 976us/step - loss: 0.6891\n",
      "Epoch 12/58\n",
      "250/250 [==============================] - 0s 983us/step - loss: 0.6891\n",
      "Epoch 13/58\n",
      "250/250 [==============================] - 0s 1ms/step - loss: 0.6891\n",
      "Epoch 14/58\n",
      "250/250 [==============================] - 0s 979us/step - loss: 0.6890\n",
      "Epoch 15/58\n",
      "250/250 [==============================] - 0s 995us/step - loss: 0.6890\n",
      "Epoch 16/58\n",
      "250/250 [==============================] - 0s 1ms/step - loss: 0.6890\n",
      "Epoch 17/58\n",
      "250/250 [==============================] - 0s 1ms/step - loss: 0.6890\n",
      "Epoch 18/58\n",
      "250/250 [==============================] - 0s 988us/step - loss: 0.6889\n",
      "Epoch 19/58\n",
      "250/250 [==============================] - 0s 1ms/step - loss: 0.6890\n",
      "Epoch 20/58\n",
      "250/250 [==============================] - 0s 1ms/step - loss: 0.6889\n",
      "Epoch 21/58\n",
      "250/250 [==============================] - 0s 1ms/step - loss: 0.6889\n",
      "Epoch 22/58\n",
      "250/250 [==============================] - 0s 1ms/step - loss: 0.6889\n",
      "Epoch 23/58\n",
      "250/250 [==============================] - 0s 1ms/step - loss: 0.6889\n",
      "Epoch 24/58\n",
      "250/250 [==============================] - 0s 1ms/step - loss: 0.6889\n",
      "Epoch 25/58\n",
      "250/250 [==============================] - 0s 1ms/step - loss: 0.6889\n",
      "Epoch 26/58\n",
      "250/250 [==============================] - 0s 1ms/step - loss: 0.6889\n",
      "Epoch 27/58\n",
      "250/250 [==============================] - 0s 1ms/step - loss: 0.6889\n",
      "Epoch 28/58\n",
      "250/250 [==============================] - 0s 1ms/step - loss: 0.6889\n",
      "Epoch 29/58\n",
      "250/250 [==============================] - 0s 1ms/step - loss: 0.6889\n",
      "Epoch 30/58\n",
      "250/250 [==============================] - 0s 1ms/step - loss: 0.6889\n",
      "Epoch 31/58\n",
      "250/250 [==============================] - 0s 1ms/step - loss: 0.6889\n",
      "Epoch 32/58\n",
      "250/250 [==============================] - 0s 1ms/step - loss: 0.6889\n",
      "Epoch 33/58\n",
      "250/250 [==============================] - 0s 1ms/step - loss: 0.6889\n",
      "Epoch 34/58\n",
      "250/250 [==============================] - 0s 1ms/step - loss: 0.6888\n",
      "Epoch 35/58\n",
      "250/250 [==============================] - 0s 1ms/step - loss: 0.6888\n",
      "Epoch 36/58\n",
      "250/250 [==============================] - 0s 1ms/step - loss: 0.6889\n",
      "Epoch 37/58\n",
      "250/250 [==============================] - 0s 989us/step - loss: 0.6888\n",
      "Epoch 38/58\n",
      "250/250 [==============================] - 0s 1ms/step - loss: 0.6889\n",
      "Epoch 39/58\n",
      "250/250 [==============================] - 0s 992us/step - loss: 0.6888\n",
      "Epoch 40/58\n",
      "250/250 [==============================] - 0s 1ms/step - loss: 0.6888\n",
      "Epoch 41/58\n",
      "250/250 [==============================] - 0s 985us/step - loss: 0.6888\n",
      "Epoch 42/58\n",
      "250/250 [==============================] - 0s 1ms/step - loss: 0.6888\n",
      "Epoch 43/58\n",
      "250/250 [==============================] - 0s 987us/step - loss: 0.6888\n",
      "Epoch 44/58\n",
      "250/250 [==============================] - 0s 1ms/step - loss: 0.6889\n",
      "Epoch 45/58\n",
      "250/250 [==============================] - 0s 1ms/step - loss: 0.6888\n",
      "Epoch 46/58\n",
      "250/250 [==============================] - 0s 1ms/step - loss: 0.6888\n",
      "Epoch 47/58\n",
      "250/250 [==============================] - 0s 1ms/step - loss: 0.6888\n",
      "Epoch 48/58\n",
      "250/250 [==============================] - 0s 1ms/step - loss: 0.6888\n",
      "Epoch 49/58\n",
      "250/250 [==============================] - 0s 995us/step - loss: 0.6888\n",
      "Epoch 50/58\n",
      "250/250 [==============================] - 0s 1ms/step - loss: 0.6888\n",
      "Epoch 51/58\n",
      "250/250 [==============================] - 0s 1ms/step - loss: 0.6888\n",
      "Epoch 52/58\n",
      "250/250 [==============================] - 0s 1ms/step - loss: 0.6888\n",
      "Epoch 53/58\n",
      "250/250 [==============================] - 0s 999us/step - loss: 0.6888\n",
      "Epoch 54/58\n",
      "250/250 [==============================] - 0s 977us/step - loss: 0.6888\n",
      "Epoch 55/58\n",
      "250/250 [==============================] - 0s 1ms/step - loss: 0.6888\n",
      "Epoch 56/58\n",
      "250/250 [==============================] - 0s 1ms/step - loss: 0.6888\n",
      "Epoch 57/58\n",
      "250/250 [==============================] - 0s 1ms/step - loss: 0.6888\n",
      "Epoch 58/58\n",
      "250/250 [==============================] - 0s 1ms/step - loss: 0.6888\n",
      "63/63 [==============================] - 0s 787us/step\n",
      "0.8338798755930578\n"
     ]
    }
   ],
   "source": [
    "model6.fit(X_train,y_train,epochs=58)\n",
    "print(r2_score(y_test,model6.predict(X_test)))"
   ]
  },
  {
   "cell_type": "code",
   "execution_count": 6,
   "id": "88f9f5e2",
   "metadata": {},
   "outputs": [],
   "source": [
    "X2=data.drop(['id','FloodProbability'],axis=1)\n",
    "y2=data['FloodProbability']\n",
    "scaler=StandardScaler()\n",
    "X2=scaler.fit_transform(X2)"
   ]
  },
  {
   "cell_type": "code",
   "execution_count": 90,
   "id": "2200c9f0",
   "metadata": {},
   "outputs": [],
   "source": [
    "X_train2,X_test2,y_train2,y_test2=train_test_split(X2,y2,train_size=.8)\n",
    "\n",
    "from sklearn.metrics import r2_score\n",
    "model6=Sequential()\n",
    "model6.add(Dense(32))\n",
    "model6.add(Activation(LeakyReLU()))\n",
    "model6.add(BatchNormalization())\n",
    "model6.add(Dense(16))\n",
    "model6.add(Activation(LeakyReLU()))\n",
    "model6.add(Dense(1,activation='sigmoid'))\n",
    "model6.compile(optimizer='adam',loss='binary_crossentropy')"
   ]
  },
  {
   "cell_type": "code",
   "execution_count": 91,
   "id": "c21a7916",
   "metadata": {},
   "outputs": [
    {
     "name": "stdout",
     "output_type": "stream",
     "text": [
      "Epoch 1/58\n",
      "27949/27949 [==============================] - 35s 1ms/step - loss: 0.6892\n",
      "Epoch 2/58\n",
      "27949/27949 [==============================] - 34s 1ms/step - loss: 0.6888\n",
      "Epoch 3/58\n",
      "27949/27949 [==============================] - 34s 1ms/step - loss: 0.6888\n",
      "Epoch 4/58\n",
      "27949/27949 [==============================] - 34s 1ms/step - loss: 0.6888\n",
      "Epoch 5/58\n",
      "27949/27949 [==============================] - 33s 1ms/step - loss: 0.6888\n",
      "Epoch 6/58\n",
      "27949/27949 [==============================] - 40s 1ms/step - loss: 0.6887\n",
      "Epoch 7/58\n",
      "27949/27949 [==============================] - 32s 1ms/step - loss: 0.6887\n",
      "Epoch 8/58\n",
      "27949/27949 [==============================] - 31s 1ms/step - loss: 0.6887\n",
      "Epoch 9/58\n",
      "27949/27949 [==============================] - 30s 1ms/step - loss: 0.6887\n",
      "Epoch 10/58\n",
      "27949/27949 [==============================] - 34s 1ms/step - loss: 0.6887\n",
      "Epoch 11/58\n",
      "27949/27949 [==============================] - 32s 1ms/step - loss: 0.6887\n",
      "Epoch 12/58\n",
      "27949/27949 [==============================] - 33s 1ms/step - loss: 0.6887\n",
      "Epoch 13/58\n",
      "27949/27949 [==============================] - 31s 1ms/step - loss: 0.6887\n",
      "Epoch 14/58\n",
      "27949/27949 [==============================] - 31s 1ms/step - loss: 0.6887\n",
      "Epoch 15/58\n",
      "27949/27949 [==============================] - 31s 1ms/step - loss: 0.6887\n",
      "Epoch 16/58\n",
      "27949/27949 [==============================] - 31s 1ms/step - loss: 0.6887\n",
      "Epoch 17/58\n",
      "27949/27949 [==============================] - 32s 1ms/step - loss: 0.6887\n",
      "Epoch 18/58\n",
      "27949/27949 [==============================] - 31s 1ms/step - loss: 0.6887\n",
      "Epoch 19/58\n",
      "27949/27949 [==============================] - 31s 1ms/step - loss: 0.6887\n",
      "Epoch 20/58\n",
      "27949/27949 [==============================] - 31s 1ms/step - loss: 0.6887\n",
      "Epoch 21/58\n",
      "27949/27949 [==============================] - 33s 1ms/step - loss: 0.6887\n",
      "Epoch 22/58\n",
      "27949/27949 [==============================] - 37s 1ms/step - loss: 0.6887\n",
      "Epoch 23/58\n",
      "27949/27949 [==============================] - 33s 1ms/step - loss: 0.6887\n",
      "Epoch 24/58\n",
      "27949/27949 [==============================] - 31s 1ms/step - loss: 0.6887\n",
      "Epoch 25/58\n",
      "27949/27949 [==============================] - 31s 1ms/step - loss: 0.6887\n",
      "Epoch 26/58\n",
      "27949/27949 [==============================] - 31s 1ms/step - loss: 0.6887\n",
      "Epoch 27/58\n",
      "27949/27949 [==============================] - 31s 1ms/step - loss: 0.6887\n",
      "Epoch 28/58\n",
      "27949/27949 [==============================] - 31s 1ms/step - loss: 0.6887\n",
      "Epoch 29/58\n",
      "27949/27949 [==============================] - 31s 1ms/step - loss: 0.6887\n",
      "Epoch 30/58\n",
      "27949/27949 [==============================] - 32s 1ms/step - loss: 0.6887\n",
      "Epoch 31/58\n",
      "27949/27949 [==============================] - 31s 1ms/step - loss: 0.6887\n",
      "Epoch 32/58\n",
      "27949/27949 [==============================] - 31s 1ms/step - loss: 0.6887\n",
      "Epoch 33/58\n",
      "27949/27949 [==============================] - 29s 1ms/step - loss: 0.6887\n",
      "Epoch 34/58\n",
      "27949/27949 [==============================] - 29s 1ms/step - loss: 0.6887\n",
      "Epoch 35/58\n",
      "27949/27949 [==============================] - 28s 1ms/step - loss: 0.6887\n",
      "Epoch 36/58\n",
      "27949/27949 [==============================] - 29s 1ms/step - loss: 0.6887\n",
      "Epoch 37/58\n",
      "27949/27949 [==============================] - 32s 1ms/step - loss: 0.6887\n",
      "Epoch 38/58\n",
      "27949/27949 [==============================] - 32s 1ms/step - loss: 0.6887\n",
      "Epoch 39/58\n",
      "27949/27949 [==============================] - 33s 1ms/step - loss: 0.6887\n",
      "Epoch 40/58\n",
      "27949/27949 [==============================] - 29s 1ms/step - loss: 0.6887\n",
      "Epoch 41/58\n",
      "27949/27949 [==============================] - 29s 1ms/step - loss: 0.6887\n",
      "Epoch 42/58\n",
      "27949/27949 [==============================] - 29s 1ms/step - loss: 0.6887\n",
      "Epoch 43/58\n",
      "27949/27949 [==============================] - 31s 1ms/step - loss: 0.6887\n",
      "Epoch 44/58\n",
      "27949/27949 [==============================] - 31s 1ms/step - loss: 0.6887\n",
      "Epoch 45/58\n",
      "27949/27949 [==============================] - 30s 1ms/step - loss: 0.6887\n",
      "Epoch 46/58\n",
      "27949/27949 [==============================] - 31s 1ms/step - loss: 0.6887\n",
      "Epoch 47/58\n",
      "27949/27949 [==============================] - 31s 1ms/step - loss: 0.6887\n",
      "Epoch 48/58\n",
      "27949/27949 [==============================] - 31s 1ms/step - loss: 0.6887\n",
      "Epoch 49/58\n",
      "27949/27949 [==============================] - 31s 1ms/step - loss: 0.6887\n",
      "Epoch 50/58\n",
      "27949/27949 [==============================] - 31s 1ms/step - loss: 0.6887\n",
      "Epoch 51/58\n",
      "27949/27949 [==============================] - 31s 1ms/step - loss: 0.6887\n",
      "Epoch 52/58\n",
      "27949/27949 [==============================] - 31s 1ms/step - loss: 0.6887\n",
      "Epoch 53/58\n",
      "27949/27949 [==============================] - 31s 1ms/step - loss: 0.6887\n",
      "Epoch 54/58\n",
      "27949/27949 [==============================] - 30s 1ms/step - loss: 0.6887\n",
      "Epoch 55/58\n",
      "27949/27949 [==============================] - 30s 1ms/step - loss: 0.6887\n",
      "Epoch 56/58\n",
      "27949/27949 [==============================] - 30s 1ms/step - loss: 0.6887\n",
      "Epoch 57/58\n",
      "27949/27949 [==============================] - 30s 1ms/step - loss: 0.6887\n",
      "Epoch 58/58\n",
      "27949/27949 [==============================] - 31s 1ms/step - loss: 0.6887\n",
      "6988/6988 [==============================] - 6s 801us/step\n",
      "0.8597584112288994\n"
     ]
    }
   ],
   "source": [
    "model6.fit(X_train2,y_train2,epochs=58)\n",
    "print(r2_score(y_test2,model6.predict(X_test2)))"
   ]
  },
  {
   "cell_type": "code",
   "execution_count": 92,
   "id": "f0be3486",
   "metadata": {},
   "outputs": [],
   "source": [
    "from sklearn.metrics import r2_score\n",
    "model7=Sequential()\n",
    "model7.add(Dense(32))\n",
    "model7.add(Activation(LeakyReLU()))\n",
    "model7.add(BatchNormalization())\n",
    "model7.add(Dense(16))\n",
    "model7.add(Activation(LeakyReLU()))\n",
    "model7.add(BatchNormalization())\n",
    "model7.add(Dense(1,activation='sigmoid'))\n",
    "model7.compile(optimizer='adam',loss='binary_crossentropy')"
   ]
  },
  {
   "cell_type": "code",
   "execution_count": 103,
   "id": "b9e2a184",
   "metadata": {},
   "outputs": [
    {
     "name": "stdout",
     "output_type": "stream",
     "text": [
      "Epoch 1/58\n",
      "27949/27949 [==============================] - 39s 1ms/step - loss: 0.6888\n",
      "Epoch 2/58\n",
      "27949/27949 [==============================] - 40s 1ms/step - loss: 0.6888\n",
      "Epoch 3/58\n",
      "27949/27949 [==============================] - 39s 1ms/step - loss: 0.6888\n",
      "Epoch 4/58\n",
      "27949/27949 [==============================] - 39s 1ms/step - loss: 0.6888\n",
      "Epoch 5/58\n",
      "27949/27949 [==============================] - 43s 2ms/step - loss: 0.6888\n",
      "Epoch 6/58\n",
      "27949/27949 [==============================] - 40s 1ms/step - loss: 0.6888\n",
      "Epoch 7/58\n",
      "27949/27949 [==============================] - 40s 1ms/step - loss: 0.6888\n",
      "Epoch 8/58\n",
      "27949/27949 [==============================] - 37s 1ms/step - loss: 0.6888\n",
      "Epoch 9/58\n",
      "27949/27949 [==============================] - 39s 1ms/step - loss: 0.6888\n",
      "Epoch 10/58\n",
      "27949/27949 [==============================] - 37s 1ms/step - loss: 0.6888\n",
      "Epoch 11/58\n",
      "27949/27949 [==============================] - 35s 1ms/step - loss: 0.6888\n",
      "Epoch 12/58\n",
      "27949/27949 [==============================] - 36s 1ms/step - loss: 0.6888\n",
      "Epoch 13/58\n",
      "27949/27949 [==============================] - 36s 1ms/step - loss: 0.6888\n",
      "Epoch 14/58\n",
      "27949/27949 [==============================] - 39s 1ms/step - loss: 0.6888\n",
      "Epoch 15/58\n",
      "27949/27949 [==============================] - 36s 1ms/step - loss: 0.6888\n",
      "Epoch 16/58\n",
      "27949/27949 [==============================] - 39s 1ms/step - loss: 0.6888\n",
      "Epoch 17/58\n",
      "27949/27949 [==============================] - 39s 1ms/step - loss: 0.6888\n",
      "Epoch 18/58\n",
      "27949/27949 [==============================] - 35s 1ms/step - loss: 0.6888\n",
      "Epoch 19/58\n",
      "27949/27949 [==============================] - 40s 1ms/step - loss: 0.6888\n",
      "Epoch 20/58\n",
      "27949/27949 [==============================] - 37s 1ms/step - loss: 0.6888\n",
      "Epoch 21/58\n",
      "27949/27949 [==============================] - 37s 1ms/step - loss: 0.6888\n",
      "Epoch 22/58\n",
      "27949/27949 [==============================] - 39s 1ms/step - loss: 0.6888\n",
      "Epoch 23/58\n",
      "27949/27949 [==============================] - 41s 1ms/step - loss: 0.6888\n",
      "Epoch 24/58\n",
      "27949/27949 [==============================] - 38s 1ms/step - loss: 0.6888\n",
      "Epoch 25/58\n",
      "27949/27949 [==============================] - 41s 1ms/step - loss: 0.6888\n",
      "Epoch 26/58\n",
      "27949/27949 [==============================] - 40s 1ms/step - loss: 0.6888\n",
      "Epoch 27/58\n",
      "27949/27949 [==============================] - 36s 1ms/step - loss: 0.6888\n",
      "Epoch 28/58\n",
      "27949/27949 [==============================] - 35s 1ms/step - loss: 0.6888\n",
      "Epoch 29/58\n",
      "27949/27949 [==============================] - 38s 1ms/step - loss: 0.6888\n",
      "Epoch 30/58\n",
      "27949/27949 [==============================] - 36s 1ms/step - loss: 0.6888\n",
      "Epoch 31/58\n",
      "27949/27949 [==============================] - 35s 1ms/step - loss: 0.6888\n",
      "Epoch 32/58\n",
      "27949/27949 [==============================] - 34s 1ms/step - loss: 0.6888\n",
      "Epoch 33/58\n",
      "27949/27949 [==============================] - 34s 1ms/step - loss: 0.6888\n",
      "Epoch 34/58\n",
      "27949/27949 [==============================] - 34s 1ms/step - loss: 0.6888\n",
      "Epoch 35/58\n",
      "27949/27949 [==============================] - 35s 1ms/step - loss: 0.6888\n",
      "Epoch 36/58\n",
      "27949/27949 [==============================] - 35s 1ms/step - loss: 0.6888\n",
      "Epoch 37/58\n",
      "27949/27949 [==============================] - 36s 1ms/step - loss: 0.6888\n",
      "Epoch 38/58\n",
      "27949/27949 [==============================] - 37s 1ms/step - loss: 0.6888\n",
      "Epoch 39/58\n",
      "27949/27949 [==============================] - 38s 1ms/step - loss: 0.6888\n",
      "Epoch 40/58\n",
      "27949/27949 [==============================] - 36s 1ms/step - loss: 0.6888\n",
      "Epoch 41/58\n",
      "27949/27949 [==============================] - 37s 1ms/step - loss: 0.6888\n",
      "Epoch 42/58\n",
      "27949/27949 [==============================] - 38s 1ms/step - loss: 0.6888\n",
      "Epoch 43/58\n",
      "27949/27949 [==============================] - 39s 1ms/step - loss: 0.6888\n",
      "Epoch 44/58\n",
      "27949/27949 [==============================] - 42s 2ms/step - loss: 0.6888\n",
      "Epoch 45/58\n",
      "27949/27949 [==============================] - 60s 2ms/step - loss: 0.6888\n",
      "Epoch 46/58\n",
      "27949/27949 [==============================] - 40s 1ms/step - loss: 0.6888\n",
      "Epoch 47/58\n",
      "27949/27949 [==============================] - 37s 1ms/step - loss: 0.6888\n",
      "Epoch 48/58\n",
      "27949/27949 [==============================] - 44s 2ms/step - loss: 0.6888\n",
      "Epoch 49/58\n",
      "27949/27949 [==============================] - 43s 2ms/step - loss: 0.6888\n",
      "Epoch 50/58\n",
      "27949/27949 [==============================] - 37s 1ms/step - loss: 0.6888\n",
      "Epoch 51/58\n",
      "27949/27949 [==============================] - 37s 1ms/step - loss: 0.6888\n",
      "Epoch 52/58\n",
      "27949/27949 [==============================] - 40s 1ms/step - loss: 0.6888\n",
      "Epoch 53/58\n",
      "27949/27949 [==============================] - 36s 1ms/step - loss: 0.6888\n",
      "Epoch 54/58\n",
      "27949/27949 [==============================] - 37s 1ms/step - loss: 0.6888\n",
      "Epoch 55/58\n",
      "27949/27949 [==============================] - 37s 1ms/step - loss: 0.6888\n",
      "Epoch 56/58\n",
      "27949/27949 [==============================] - 43s 2ms/step - loss: 0.6888\n",
      "Epoch 57/58\n",
      "27949/27949 [==============================] - 41s 1ms/step - loss: 0.6888\n",
      "Epoch 58/58\n",
      "27949/27949 [==============================] - 37s 1ms/step - loss: 0.6888\n",
      "6988/6988 [==============================] - 7s 973us/step\n",
      "0.8603883784085665\n"
     ]
    }
   ],
   "source": [
    "model7.fit(X_train2,y_train2,epochs=58)\n",
    "print(r2_score(y_test2,model7.predict(X_test2)))"
   ]
  },
  {
   "cell_type": "code",
   "execution_count": 94,
   "id": "31e0346c",
   "metadata": {},
   "outputs": [
    {
     "name": "stdout",
     "output_type": "stream",
     "text": [
      "Epoch 1/58\n",
      "34937/34937 [==============================] - 47s 1ms/step - loss: 0.6888\n",
      "Epoch 2/58\n",
      "34937/34937 [==============================] - 46s 1ms/step - loss: 0.6888\n",
      "Epoch 3/58\n",
      "34937/34937 [==============================] - 46s 1ms/step - loss: 0.6888\n",
      "Epoch 4/58\n",
      "34937/34937 [==============================] - 47s 1ms/step - loss: 0.6888\n",
      "Epoch 5/58\n",
      "34937/34937 [==============================] - 49s 1ms/step - loss: 0.6888\n",
      "Epoch 6/58\n",
      "34937/34937 [==============================] - 48s 1ms/step - loss: 0.6888\n",
      "Epoch 7/58\n",
      "34937/34937 [==============================] - 48s 1ms/step - loss: 0.6888\n",
      "Epoch 8/58\n",
      "34937/34937 [==============================] - 46s 1ms/step - loss: 0.6888\n",
      "Epoch 9/58\n",
      "34937/34937 [==============================] - 46s 1ms/step - loss: 0.6888\n",
      "Epoch 10/58\n",
      "34937/34937 [==============================] - 43s 1ms/step - loss: 0.6888\n",
      "Epoch 11/58\n",
      "34937/34937 [==============================] - 42s 1ms/step - loss: 0.6888\n",
      "Epoch 12/58\n",
      "34937/34937 [==============================] - 44s 1ms/step - loss: 0.6888\n",
      "Epoch 13/58\n",
      "34937/34937 [==============================] - 44s 1ms/step - loss: 0.6888\n",
      "Epoch 14/58\n",
      "34937/34937 [==============================] - 45s 1ms/step - loss: 0.6888\n",
      "Epoch 15/58\n",
      "34937/34937 [==============================] - 43s 1ms/step - loss: 0.6888\n",
      "Epoch 16/58\n",
      "34937/34937 [==============================] - 43s 1ms/step - loss: 0.6888\n",
      "Epoch 17/58\n",
      "34937/34937 [==============================] - 43s 1ms/step - loss: 0.6888\n",
      "Epoch 18/58\n",
      "34937/34937 [==============================] - 43s 1ms/step - loss: 0.6888\n",
      "Epoch 19/58\n",
      "34937/34937 [==============================] - 43s 1ms/step - loss: 0.6888\n",
      "Epoch 20/58\n",
      "34937/34937 [==============================] - 43s 1ms/step - loss: 0.6888\n",
      "Epoch 21/58\n",
      "34937/34937 [==============================] - 42s 1ms/step - loss: 0.6888\n",
      "Epoch 22/58\n",
      "34937/34937 [==============================] - 44s 1ms/step - loss: 0.6888\n",
      "Epoch 23/58\n",
      "34937/34937 [==============================] - 43s 1ms/step - loss: 0.6888\n",
      "Epoch 24/58\n",
      "34937/34937 [==============================] - 42s 1ms/step - loss: 0.6888\n",
      "Epoch 25/58\n",
      "34937/34937 [==============================] - 43s 1ms/step - loss: 0.6888\n",
      "Epoch 26/58\n",
      "34937/34937 [==============================] - 43s 1ms/step - loss: 0.6888\n",
      "Epoch 27/58\n",
      "34937/34937 [==============================] - 42s 1ms/step - loss: 0.6888\n",
      "Epoch 28/58\n",
      "34937/34937 [==============================] - 43s 1ms/step - loss: 0.6888\n",
      "Epoch 29/58\n",
      "34937/34937 [==============================] - 44s 1ms/step - loss: 0.6888\n",
      "Epoch 30/58\n",
      "34937/34937 [==============================] - 42s 1ms/step - loss: 0.6888\n",
      "Epoch 31/58\n",
      "34937/34937 [==============================] - 43s 1ms/step - loss: 0.6888\n",
      "Epoch 32/58\n",
      "34937/34937 [==============================] - 43s 1ms/step - loss: 0.6888\n",
      "Epoch 33/58\n",
      "34937/34937 [==============================] - 42s 1ms/step - loss: 0.6888\n",
      "Epoch 34/58\n",
      "34937/34937 [==============================] - 43s 1ms/step - loss: 0.6888\n",
      "Epoch 35/58\n",
      "34937/34937 [==============================] - 43s 1ms/step - loss: 0.6888\n",
      "Epoch 36/58\n",
      "34937/34937 [==============================] - 42s 1ms/step - loss: 0.6888\n",
      "Epoch 37/58\n",
      "34937/34937 [==============================] - 41s 1ms/step - loss: 0.6888\n",
      "Epoch 38/58\n",
      "34937/34937 [==============================] - 40s 1ms/step - loss: 0.6888\n",
      "Epoch 39/58\n",
      "34937/34937 [==============================] - 41s 1ms/step - loss: 0.6888\n",
      "Epoch 40/58\n",
      "34937/34937 [==============================] - 41s 1ms/step - loss: 0.6888\n",
      "Epoch 41/58\n",
      "34937/34937 [==============================] - 41s 1ms/step - loss: 0.6888\n",
      "Epoch 42/58\n",
      "34937/34937 [==============================] - 41s 1ms/step - loss: 0.6888\n",
      "Epoch 43/58\n",
      "34937/34937 [==============================] - 41s 1ms/step - loss: 0.6888\n",
      "Epoch 44/58\n",
      "34937/34937 [==============================] - 42s 1ms/step - loss: 0.6888\n",
      "Epoch 45/58\n",
      "34937/34937 [==============================] - 40s 1ms/step - loss: 0.6888\n",
      "Epoch 46/58\n",
      "34937/34937 [==============================] - 41s 1ms/step - loss: 0.6888\n",
      "Epoch 47/58\n",
      "34937/34937 [==============================] - 41s 1ms/step - loss: 0.6888\n",
      "Epoch 48/58\n",
      "34937/34937 [==============================] - 41s 1ms/step - loss: 0.6888\n",
      "Epoch 49/58\n",
      "34937/34937 [==============================] - 41s 1ms/step - loss: 0.6888\n",
      "Epoch 50/58\n",
      "34937/34937 [==============================] - 41s 1ms/step - loss: 0.6888\n",
      "Epoch 51/58\n",
      "34937/34937 [==============================] - 4299s 123ms/step - loss: 0.6888\n",
      "Epoch 52/58\n",
      "34937/34937 [==============================] - 55s 2ms/step - loss: 0.6888\n",
      "Epoch 53/58\n",
      "34937/34937 [==============================] - 49s 1ms/step - loss: 0.6888\n",
      "Epoch 54/58\n",
      "34937/34937 [==============================] - 49s 1ms/step - loss: 0.6888\n",
      "Epoch 55/58\n",
      "34937/34937 [==============================] - 54s 2ms/step - loss: 0.6888\n",
      "Epoch 56/58\n",
      "34937/34937 [==============================] - 49s 1ms/step - loss: 0.6888\n",
      "Epoch 57/58\n",
      "34937/34937 [==============================] - 50s 1ms/step - loss: 0.6888\n",
      "Epoch 58/58\n",
      "34937/34937 [==============================] - 49s 1ms/step - loss: 0.6888\n"
     ]
    },
    {
     "data": {
      "text/plain": [
       "<keras.callbacks.History at 0x217bb0a7970>"
      ]
     },
     "execution_count": 94,
     "metadata": {},
     "output_type": "execute_result"
    }
   ],
   "source": [
    "model7.fit(X2,y2,epochs=58)"
   ]
  },
  {
   "cell_type": "code",
   "execution_count": 7,
   "id": "e7dba2e6",
   "metadata": {},
   "outputs": [],
   "source": [
    "test=pd.read_csv(\"C:\\\\Users\\\\jqotw\\\\Downloads\\\\playground-series-s4e5\\\\test.csv\")"
   ]
  },
  {
   "cell_type": "code",
   "execution_count": 8,
   "id": "6da791fe",
   "metadata": {},
   "outputs": [],
   "source": [
    "XX=test.drop(['id'],axis=1)\n",
    "XX=scaler.fit_transform(XX)\n",
    "index=test['id']"
   ]
  },
  {
   "cell_type": "code",
   "execution_count": 97,
   "id": "984f6c5b",
   "metadata": {},
   "outputs": [
    {
     "name": "stdout",
     "output_type": "stream",
     "text": [
      "23291/23291 [==============================] - 22s 939us/step\n",
      "[[0.5733142 ]\n",
      " [0.45752773]\n",
      " [0.45752123]\n",
      " [0.4713548 ]\n",
      " [0.47229823]]\n"
     ]
    }
   ],
   "source": [
    "predictions=model7.predict(XX)\n",
    "print(predictions[0:5])"
   ]
  },
  {
   "cell_type": "code",
   "execution_count": 98,
   "id": "85b27721",
   "metadata": {},
   "outputs": [
    {
     "data": {
      "text/html": [
       "<div>\n",
       "<style scoped>\n",
       "    .dataframe tbody tr th:only-of-type {\n",
       "        vertical-align: middle;\n",
       "    }\n",
       "\n",
       "    .dataframe tbody tr th {\n",
       "        vertical-align: top;\n",
       "    }\n",
       "\n",
       "    .dataframe thead th {\n",
       "        text-align: right;\n",
       "    }\n",
       "</style>\n",
       "<table border=\"1\" class=\"dataframe\">\n",
       "  <thead>\n",
       "    <tr style=\"text-align: right;\">\n",
       "      <th></th>\n",
       "      <th>0</th>\n",
       "    </tr>\n",
       "  </thead>\n",
       "  <tbody>\n",
       "    <tr>\n",
       "      <th>0</th>\n",
       "      <td>0.573314</td>\n",
       "    </tr>\n",
       "    <tr>\n",
       "      <th>1</th>\n",
       "      <td>0.457528</td>\n",
       "    </tr>\n",
       "    <tr>\n",
       "      <th>2</th>\n",
       "      <td>0.457521</td>\n",
       "    </tr>\n",
       "    <tr>\n",
       "      <th>3</th>\n",
       "      <td>0.471355</td>\n",
       "    </tr>\n",
       "    <tr>\n",
       "      <th>4</th>\n",
       "      <td>0.472298</td>\n",
       "    </tr>\n",
       "  </tbody>\n",
       "</table>\n",
       "</div>"
      ],
      "text/plain": [
       "          0\n",
       "0  0.573314\n",
       "1  0.457528\n",
       "2  0.457521\n",
       "3  0.471355\n",
       "4  0.472298"
      ]
     },
     "execution_count": 98,
     "metadata": {},
     "output_type": "execute_result"
    }
   ],
   "source": [
    "predictions=pd.DataFrame(predictions)\n",
    "predictions.head()"
   ]
  },
  {
   "cell_type": "code",
   "execution_count": 100,
   "id": "e6a8f5d4",
   "metadata": {},
   "outputs": [
    {
     "data": {
      "text/html": [
       "<div>\n",
       "<style scoped>\n",
       "    .dataframe tbody tr th:only-of-type {\n",
       "        vertical-align: middle;\n",
       "    }\n",
       "\n",
       "    .dataframe tbody tr th {\n",
       "        vertical-align: top;\n",
       "    }\n",
       "\n",
       "    .dataframe thead th {\n",
       "        text-align: right;\n",
       "    }\n",
       "</style>\n",
       "<table border=\"1\" class=\"dataframe\">\n",
       "  <thead>\n",
       "    <tr style=\"text-align: right;\">\n",
       "      <th></th>\n",
       "      <th>FloodProbability</th>\n",
       "    </tr>\n",
       "  </thead>\n",
       "  <tbody>\n",
       "    <tr>\n",
       "      <th>0</th>\n",
       "      <td>0.573314</td>\n",
       "    </tr>\n",
       "    <tr>\n",
       "      <th>1</th>\n",
       "      <td>0.457528</td>\n",
       "    </tr>\n",
       "    <tr>\n",
       "      <th>2</th>\n",
       "      <td>0.457521</td>\n",
       "    </tr>\n",
       "    <tr>\n",
       "      <th>3</th>\n",
       "      <td>0.471355</td>\n",
       "    </tr>\n",
       "    <tr>\n",
       "      <th>4</th>\n",
       "      <td>0.472298</td>\n",
       "    </tr>\n",
       "  </tbody>\n",
       "</table>\n",
       "</div>"
      ],
      "text/plain": [
       "   FloodProbability\n",
       "0          0.573314\n",
       "1          0.457528\n",
       "2          0.457521\n",
       "3          0.471355\n",
       "4          0.472298"
      ]
     },
     "execution_count": 100,
     "metadata": {},
     "output_type": "execute_result"
    }
   ],
   "source": [
    "predictions.rename(columns = {0:'FloodProbability'}, inplace = True)\n",
    "predictions.head()"
   ]
  },
  {
   "cell_type": "code",
   "execution_count": 101,
   "id": "e4a504b9",
   "metadata": {},
   "outputs": [
    {
     "data": {
      "text/html": [
       "<div>\n",
       "<style scoped>\n",
       "    .dataframe tbody tr th:only-of-type {\n",
       "        vertical-align: middle;\n",
       "    }\n",
       "\n",
       "    .dataframe tbody tr th {\n",
       "        vertical-align: top;\n",
       "    }\n",
       "\n",
       "    .dataframe thead th {\n",
       "        text-align: right;\n",
       "    }\n",
       "</style>\n",
       "<table border=\"1\" class=\"dataframe\">\n",
       "  <thead>\n",
       "    <tr style=\"text-align: right;\">\n",
       "      <th></th>\n",
       "      <th>id</th>\n",
       "      <th>FloodProbability</th>\n",
       "    </tr>\n",
       "  </thead>\n",
       "  <tbody>\n",
       "    <tr>\n",
       "      <th>0</th>\n",
       "      <td>1117957</td>\n",
       "      <td>0.573314</td>\n",
       "    </tr>\n",
       "    <tr>\n",
       "      <th>1</th>\n",
       "      <td>1117958</td>\n",
       "      <td>0.457528</td>\n",
       "    </tr>\n",
       "    <tr>\n",
       "      <th>2</th>\n",
       "      <td>1117959</td>\n",
       "      <td>0.457521</td>\n",
       "    </tr>\n",
       "    <tr>\n",
       "      <th>3</th>\n",
       "      <td>1117960</td>\n",
       "      <td>0.471355</td>\n",
       "    </tr>\n",
       "    <tr>\n",
       "      <th>4</th>\n",
       "      <td>1117961</td>\n",
       "      <td>0.472298</td>\n",
       "    </tr>\n",
       "  </tbody>\n",
       "</table>\n",
       "</div>"
      ],
      "text/plain": [
       "        id  FloodProbability\n",
       "0  1117957          0.573314\n",
       "1  1117958          0.457528\n",
       "2  1117959          0.457521\n",
       "3  1117960          0.471355\n",
       "4  1117961          0.472298"
      ]
     },
     "execution_count": 101,
     "metadata": {},
     "output_type": "execute_result"
    }
   ],
   "source": [
    "scores=pd.concat([index,predictions],axis=1)\n",
    "scores.head()"
   ]
  },
  {
   "cell_type": "code",
   "execution_count": 102,
   "id": "03fa2fbe",
   "metadata": {},
   "outputs": [],
   "source": [
    "scores.to_csv(\"C:\\\\Users\\\\jqotw\\\\Downloads\\\\playground-series-s4e5\\\\submission5_7.csv\",index=False)"
   ]
  },
  {
   "cell_type": "code",
   "execution_count": 105,
   "id": "6856e872",
   "metadata": {},
   "outputs": [
    {
     "name": "stdout",
     "output_type": "stream",
     "text": [
      "6988/6988 [==============================] - 5s 720us/step\n"
     ]
    },
    {
     "data": {
      "text/plain": [
       "<function matplotlib.pyplot.show(close=None, block=None)>"
      ]
     },
     "execution_count": 105,
     "metadata": {},
     "output_type": "execute_result"
    },
    {
     "data": {
      "image/png": "[encoded data removed]",
      "text/plain": [
       "<Figure size 432x288 with 1 Axes>"
      ]
     },
     "metadata": {
      "needs_background": "light"
     },
     "output_type": "display_data"
    }
   ],
   "source": [
    "plt.scatter(y_test2,model7.predict(X_test2))\n",
    "plt.show"
   ]
  },
  {
   "cell_type": "code",
   "execution_count": 108,
   "id": "847d189e",
   "metadata": {},
   "outputs": [
    {
     "name": "stdout",
     "output_type": "stream",
     "text": [
      "{'max_depth': 60, 'n_estimators': 450}\n"
     ]
    }
   ],
   "source": [
    "forest=rf()\n",
    "params={'n_estimators':list(range(50,500,50)),\"max_depth\":list(range(10,100,10))}\n",
    "model8=GridSearchCV(forest,param_grid=params)\n",
    "model8.fit(X,y)\n",
    "print(model8.best_params_)"
   ]
  },
  {
   "cell_type": "code",
   "execution_count": 109,
   "id": "6d0a33d8",
   "metadata": {},
   "outputs": [
    {
     "name": "stdout",
     "output_type": "stream",
     "text": [
      "Epoch 1/58\n",
      "34937/34937 [==============================] - 42s 1ms/step - loss: 0.6890\n",
      "Epoch 2/58\n",
      "34937/34937 [==============================] - 41s 1ms/step - loss: 0.6887\n",
      "Epoch 3/58\n",
      "34937/34937 [==============================] - 40s 1ms/step - loss: 0.6887\n",
      "Epoch 4/58\n",
      "34937/34937 [==============================] - 42s 1ms/step - loss: 0.6887\n",
      "Epoch 5/58\n",
      "34937/34937 [==============================] - 41s 1ms/step - loss: 0.6887\n",
      "Epoch 6/58\n",
      "34937/34937 [==============================] - 43s 1ms/step - loss: 0.6887\n",
      "Epoch 7/58\n",
      "34937/34937 [==============================] - 41s 1ms/step - loss: 0.6887\n",
      "Epoch 8/58\n",
      "34937/34937 [==============================] - 40s 1ms/step - loss: 0.6887\n",
      "Epoch 9/58\n",
      "34937/34937 [==============================] - 39s 1ms/step - loss: 0.6887\n",
      "Epoch 10/58\n",
      "34937/34937 [==============================] - 38s 1ms/step - loss: 0.6887\n",
      "Epoch 11/58\n",
      "34937/34937 [==============================] - 47s 1ms/step - loss: 0.6887\n",
      "Epoch 12/58\n",
      "34937/34937 [==============================] - 48s 1ms/step - loss: 0.6887\n",
      "Epoch 13/58\n",
      "34937/34937 [==============================] - 40s 1ms/step - loss: 0.6887\n",
      "Epoch 14/58\n",
      "34937/34937 [==============================] - 40s 1ms/step - loss: 0.6887\n",
      "Epoch 15/58\n",
      "34937/34937 [==============================] - 41s 1ms/step - loss: 0.6887\n",
      "Epoch 16/58\n",
      "34937/34937 [==============================] - 38s 1ms/step - loss: 0.6887\n",
      "Epoch 17/58\n",
      "34937/34937 [==============================] - 38s 1ms/step - loss: 0.6887\n",
      "Epoch 18/58\n",
      "34937/34937 [==============================] - 39s 1ms/step - loss: 0.6887\n",
      "Epoch 19/58\n",
      "34937/34937 [==============================] - 38s 1ms/step - loss: 0.6887\n",
      "Epoch 20/58\n",
      "34937/34937 [==============================] - 40s 1ms/step - loss: 0.6887\n",
      "Epoch 21/58\n",
      "34937/34937 [==============================] - 37s 1ms/step - loss: 0.6887\n",
      "Epoch 22/58\n",
      "34937/34937 [==============================] - 36s 1ms/step - loss: 0.6887\n",
      "Epoch 23/58\n",
      "34937/34937 [==============================] - 35s 1ms/step - loss: 0.6887\n",
      "Epoch 24/58\n",
      "34937/34937 [==============================] - 1730s 50ms/step - loss: 0.6887\n",
      "Epoch 25/58\n",
      "34937/34937 [==============================] - 40s 1ms/step - loss: 0.6887\n",
      "Epoch 26/58\n",
      "34937/34937 [==============================] - 40s 1ms/step - loss: 0.6887\n",
      "Epoch 27/58\n",
      "34937/34937 [==============================] - 40s 1ms/step - loss: 0.6887\n",
      "Epoch 28/58\n",
      "34937/34937 [==============================] - 39s 1ms/step - loss: 0.6887\n",
      "Epoch 29/58\n",
      "34937/34937 [==============================] - 40s 1ms/step - loss: 0.6887\n",
      "Epoch 30/58\n",
      "34937/34937 [==============================] - 39s 1ms/step - loss: 0.6887\n",
      "Epoch 31/58\n",
      "34937/34937 [==============================] - 42s 1ms/step - loss: 0.6887\n",
      "Epoch 32/58\n",
      "34937/34937 [==============================] - 40s 1ms/step - loss: 0.6887\n",
      "Epoch 33/58\n",
      "34937/34937 [==============================] - 40s 1ms/step - loss: 0.6887\n",
      "Epoch 34/58\n",
      "34937/34937 [==============================] - 40s 1ms/step - loss: 0.6887\n",
      "Epoch 35/58\n",
      "34937/34937 [==============================] - 41s 1ms/step - loss: 0.6887\n",
      "Epoch 36/58\n",
      "34937/34937 [==============================] - 37s 1ms/step - loss: 0.6887\n",
      "Epoch 37/58\n",
      "34937/34937 [==============================] - 36s 1ms/step - loss: 0.6887\n",
      "Epoch 38/58\n",
      "34937/34937 [==============================] - 36s 1ms/step - loss: 0.6887\n",
      "Epoch 39/58\n",
      "34937/34937 [==============================] - 36s 1ms/step - loss: 0.6887\n",
      "Epoch 40/58\n",
      "34937/34937 [==============================] - 36s 1ms/step - loss: 0.6887\n",
      "Epoch 41/58\n",
      "34937/34937 [==============================] - 36s 1ms/step - loss: 0.6887\n",
      "Epoch 42/58\n",
      "34937/34937 [==============================] - 36s 1ms/step - loss: 0.6887\n",
      "Epoch 43/58\n",
      "34937/34937 [==============================] - 36s 1ms/step - loss: 0.6887\n",
      "Epoch 44/58\n",
      "34937/34937 [==============================] - 36s 1ms/step - loss: 0.6887\n",
      "Epoch 45/58\n",
      "34937/34937 [==============================] - 36s 1ms/step - loss: 0.6887\n",
      "Epoch 46/58\n",
      "34937/34937 [==============================] - 36s 1ms/step - loss: 0.6887\n",
      "Epoch 47/58\n",
      "34937/34937 [==============================] - 36s 1ms/step - loss: 0.6887\n",
      "Epoch 48/58\n",
      "34937/34937 [==============================] - 36s 1ms/step - loss: 0.6887\n",
      "Epoch 49/58\n",
      "34937/34937 [==============================] - 36s 1ms/step - loss: 0.6887\n",
      "Epoch 50/58\n",
      "34937/34937 [==============================] - 36s 1ms/step - loss: 0.6887\n",
      "Epoch 51/58\n",
      "34937/34937 [==============================] - 36s 1ms/step - loss: 0.6887\n",
      "Epoch 52/58\n",
      "34937/34937 [==============================] - 36s 1ms/step - loss: 0.6887\n",
      "Epoch 53/58\n",
      "34937/34937 [==============================] - 1199s 34ms/step - loss: 0.6887\n",
      "Epoch 54/58\n",
      "34937/34937 [==============================] - 39s 1ms/step - loss: 0.6887\n",
      "Epoch 55/58\n",
      "34937/34937 [==============================] - 42s 1ms/step - loss: 0.6887\n",
      "Epoch 56/58\n",
      "34937/34937 [==============================] - 41s 1ms/step - loss: 0.6887\n",
      "Epoch 57/58\n",
      "34937/34937 [==============================] - 42s 1ms/step - loss: 0.6887\n",
      "Epoch 58/58\n",
      "34937/34937 [==============================] - 40s 1ms/step - loss: 0.6887\n"
     ]
    },
    {
     "data": {
      "text/plain": [
       "<keras.callbacks.History at 0x217b6da0280>"
      ]
     },
     "execution_count": 109,
     "metadata": {},
     "output_type": "execute_result"
    }
   ],
   "source": [
    "\n",
    "\n",
    "\n",
    "model6=Sequential()\n",
    "model6.add(Dense(32))\n",
    "model6.add(Activation(LeakyReLU()))\n",
    "model6.add(BatchNormalization())\n",
    "model6.add(Dense(16))\n",
    "model6.add(Activation(LeakyReLU()))\n",
    "model6.add(Dense(1,activation='sigmoid'))\n",
    "model6.compile(optimizer='adam',loss='binary_crossentropy')\n",
    "model6.fit(X2,y2,epochs=58)"
   ]
  },
  {
   "cell_type": "code",
   "execution_count": 110,
   "id": "d91b613f",
   "metadata": {},
   "outputs": [
    {
     "name": "stdout",
     "output_type": "stream",
     "text": [
      "23291/23291 [==============================] - 20s 826us/step\n",
      "[[0.5792425 ]\n",
      " [0.45460021]\n",
      " [0.45376024]\n",
      " [0.46968165]\n",
      " [0.47101822]]\n"
     ]
    }
   ],
   "source": [
    "predictions=model6.predict(XX)\n",
    "print(predictions[0:5])"
   ]
  },
  {
   "cell_type": "code",
   "execution_count": 111,
   "id": "9c5e56bd",
   "metadata": {},
   "outputs": [
    {
     "data": {
      "text/html": [
       "<div>\n",
       "<style scoped>\n",
       "    .dataframe tbody tr th:only-of-type {\n",
       "        vertical-align: middle;\n",
       "    }\n",
       "\n",
       "    .dataframe tbody tr th {\n",
       "        vertical-align: top;\n",
       "    }\n",
       "\n",
       "    .dataframe thead th {\n",
       "        text-align: right;\n",
       "    }\n",
       "</style>\n",
       "<table border=\"1\" class=\"dataframe\">\n",
       "  <thead>\n",
       "    <tr style=\"text-align: right;\">\n",
       "      <th></th>\n",
       "      <th>id</th>\n",
       "      <th>FloodProbability</th>\n",
       "    </tr>\n",
       "  </thead>\n",
       "  <tbody>\n",
       "    <tr>\n",
       "      <th>0</th>\n",
       "      <td>1117957</td>\n",
       "      <td>0.579243</td>\n",
       "    </tr>\n",
       "    <tr>\n",
       "      <th>1</th>\n",
       "      <td>1117958</td>\n",
       "      <td>0.454600</td>\n",
       "    </tr>\n",
       "    <tr>\n",
       "      <th>2</th>\n",
       "      <td>1117959</td>\n",
       "      <td>0.453760</td>\n",
       "    </tr>\n",
       "    <tr>\n",
       "      <th>3</th>\n",
       "      <td>1117960</td>\n",
       "      <td>0.469682</td>\n",
       "    </tr>\n",
       "    <tr>\n",
       "      <th>4</th>\n",
       "      <td>1117961</td>\n",
       "      <td>0.471018</td>\n",
       "    </tr>\n",
       "  </tbody>\n",
       "</table>\n",
       "</div>"
      ],
      "text/plain": [
       "        id  FloodProbability\n",
       "0  1117957          0.579243\n",
       "1  1117958          0.454600\n",
       "2  1117959          0.453760\n",
       "3  1117960          0.469682\n",
       "4  1117961          0.471018"
      ]
     },
     "execution_count": 111,
     "metadata": {},
     "output_type": "execute_result"
    }
   ],
   "source": [
    "predictions=pd.DataFrame(predictions)\n",
    "predictions.rename(columns = {0:'FloodProbability'}, inplace = True)\n",
    "scores=pd.concat([index,predictions],axis=1)\n",
    "scores.head()"
   ]
  },
  {
   "cell_type": "code",
   "execution_count": 112,
   "id": "74de9eb3",
   "metadata": {},
   "outputs": [],
   "source": [
    "scores.to_csv(\"C:\\\\Users\\\\jqotw\\\\Downloads\\\\playground-series-s4e5\\\\submission5_9.csv\",index=False)"
   ]
  },
  {
   "cell_type": "code",
   "execution_count": null,
   "id": "d0e8ba30",
   "metadata": {
    "scrolled": true
   },
   "outputs": [],
   "source": [
    "model8=rf(max_depth=60,n_estimators=450)\n",
    "model8.fit(X2,y2)"
   ]
  },
  {
   "cell_type": "code",
   "execution_count": 113,
   "id": "da49e1cd",
   "metadata": {},
   "outputs": [],
   "source": [
    "score1=pd.read_csv(\"C:\\\\Users\\\\jqotw\\\\Downloads\\\\playground-series-s4e5\\\\submission5_7.csv\")\n",
    "score2=pd.read_csv(\"C:\\\\Users\\\\jqotw\\Downloads\\\\submission_5.3.csv\")"
   ]
  },
  {
   "cell_type": "code",
   "execution_count": 114,
   "id": "07e0b709",
   "metadata": {},
   "outputs": [],
   "source": [
    "score3=pd.DataFrame(score1['id'])"
   ]
  },
  {
   "cell_type": "code",
   "execution_count": 115,
   "id": "b116b40a",
   "metadata": {},
   "outputs": [
    {
     "data": {
      "text/html": [
       "<div>\n",
       "<style scoped>\n",
       "    .dataframe tbody tr th:only-of-type {\n",
       "        vertical-align: middle;\n",
       "    }\n",
       "\n",
       "    .dataframe tbody tr th {\n",
       "        vertical-align: top;\n",
       "    }\n",
       "\n",
       "    .dataframe thead th {\n",
       "        text-align: right;\n",
       "    }\n",
       "</style>\n",
       "<table border=\"1\" class=\"dataframe\">\n",
       "  <thead>\n",
       "    <tr style=\"text-align: right;\">\n",
       "      <th></th>\n",
       "      <th>id</th>\n",
       "      <th>FloodProbability</th>\n",
       "    </tr>\n",
       "  </thead>\n",
       "  <tbody>\n",
       "    <tr>\n",
       "      <th>0</th>\n",
       "      <td>1117957</td>\n",
       "      <td>0.573229</td>\n",
       "    </tr>\n",
       "    <tr>\n",
       "      <th>1</th>\n",
       "      <td>1117958</td>\n",
       "      <td>0.456550</td>\n",
       "    </tr>\n",
       "    <tr>\n",
       "      <th>2</th>\n",
       "      <td>1117959</td>\n",
       "      <td>0.456297</td>\n",
       "    </tr>\n",
       "    <tr>\n",
       "      <th>3</th>\n",
       "      <td>1117960</td>\n",
       "      <td>0.468908</td>\n",
       "    </tr>\n",
       "    <tr>\n",
       "      <th>4</th>\n",
       "      <td>1117961</td>\n",
       "      <td>0.469315</td>\n",
       "    </tr>\n",
       "  </tbody>\n",
       "</table>\n",
       "</div>"
      ],
      "text/plain": [
       "        id  FloodProbability\n",
       "0  1117957          0.573229\n",
       "1  1117958          0.456550\n",
       "2  1117959          0.456297\n",
       "3  1117960          0.468908\n",
       "4  1117961          0.469315"
      ]
     },
     "execution_count": 115,
     "metadata": {},
     "output_type": "execute_result"
    }
   ],
   "source": [
    "score3['FloodProbability']=(score1['FloodProbability']+score2['FloodProbability'])/2\n",
    "score3.head()"
   ]
  },
  {
   "cell_type": "code",
   "execution_count": 116,
   "id": "c924918c",
   "metadata": {},
   "outputs": [],
   "source": [
    "score3.to_csv(\"C:\\\\Users\\\\jqotw\\\\Downloads\\\\playground-series-s4e5\\\\submission5_9_2.csv\",index=False)"
   ]
  },
  {
   "cell_type": "code",
   "execution_count": 118,
   "id": "1b643324",
   "metadata": {},
   "outputs": [
    {
     "ename": "MemoryError",
     "evalue": "could not allocate 117440512 bytes",
     "output_type": "error",
     "traceback": [
      "\u001b[1;31m---------------------------------------------------------------------------\u001b[0m",
      "\u001b[1;31mMemoryError\u001b[0m                               Traceback (most recent call last)",
      "Input \u001b[1;32mIn [118]\u001b[0m, in \u001b[0;36m<cell line: 1>\u001b[1;34m()\u001b[0m\n\u001b[1;32m----> 1\u001b[0m \u001b[43mmodel8\u001b[49m\u001b[38;5;241;43m.\u001b[39;49m\u001b[43mfit\u001b[49m\u001b[43m(\u001b[49m\u001b[43mX2\u001b[49m\u001b[43m,\u001b[49m\u001b[43my2\u001b[49m\u001b[43m)\u001b[49m\n",
      "File \u001b[1;32m~\\anaconda3\\lib\\site-packages\\sklearn\\ensemble\\_forest.py:450\u001b[0m, in \u001b[0;36mBaseForest.fit\u001b[1;34m(self, X, y, sample_weight)\u001b[0m\n\u001b[0;32m    439\u001b[0m trees \u001b[38;5;241m=\u001b[39m [\n\u001b[0;32m    440\u001b[0m     \u001b[38;5;28mself\u001b[39m\u001b[38;5;241m.\u001b[39m_make_estimator(append\u001b[38;5;241m=\u001b[39m\u001b[38;5;28;01mFalse\u001b[39;00m, random_state\u001b[38;5;241m=\u001b[39mrandom_state)\n\u001b[0;32m    441\u001b[0m     \u001b[38;5;28;01mfor\u001b[39;00m i \u001b[38;5;129;01min\u001b[39;00m \u001b[38;5;28mrange\u001b[39m(n_more_estimators)\n\u001b[0;32m    442\u001b[0m ]\n\u001b[0;32m    444\u001b[0m \u001b[38;5;66;03m# Parallel loop: we prefer the threading backend as the Cython code\u001b[39;00m\n\u001b[0;32m    445\u001b[0m \u001b[38;5;66;03m# for fitting the trees is internally releasing the Python GIL\u001b[39;00m\n\u001b[0;32m    446\u001b[0m \u001b[38;5;66;03m# making threading more efficient than multiprocessing in\u001b[39;00m\n\u001b[0;32m    447\u001b[0m \u001b[38;5;66;03m# that case. However, for joblib 0.12+ we respect any\u001b[39;00m\n\u001b[0;32m    448\u001b[0m \u001b[38;5;66;03m# parallel_backend contexts set at a higher level,\u001b[39;00m\n\u001b[0;32m    449\u001b[0m \u001b[38;5;66;03m# since correctness does not rely on using threads.\u001b[39;00m\n\u001b[1;32m--> 450\u001b[0m trees \u001b[38;5;241m=\u001b[39m \u001b[43mParallel\u001b[49m\u001b[43m(\u001b[49m\n\u001b[0;32m    451\u001b[0m \u001b[43m    \u001b[49m\u001b[43mn_jobs\u001b[49m\u001b[38;5;241;43m=\u001b[39;49m\u001b[38;5;28;43mself\u001b[39;49m\u001b[38;5;241;43m.\u001b[39;49m\u001b[43mn_jobs\u001b[49m\u001b[43m,\u001b[49m\n\u001b[0;32m    452\u001b[0m \u001b[43m    \u001b[49m\u001b[43mverbose\u001b[49m\u001b[38;5;241;43m=\u001b[39;49m\u001b[38;5;28;43mself\u001b[39;49m\u001b[38;5;241;43m.\u001b[39;49m\u001b[43mverbose\u001b[49m\u001b[43m,\u001b[49m\n\u001b[0;32m    453\u001b[0m \u001b[43m    \u001b[49m\u001b[38;5;241;43m*\u001b[39;49m\u001b[38;5;241;43m*\u001b[39;49m\u001b[43m_joblib_parallel_args\u001b[49m\u001b[43m(\u001b[49m\u001b[43mprefer\u001b[49m\u001b[38;5;241;43m=\u001b[39;49m\u001b[38;5;124;43m\"\u001b[39;49m\u001b[38;5;124;43mthreads\u001b[39;49m\u001b[38;5;124;43m\"\u001b[39;49m\u001b[43m)\u001b[49m\u001b[43m,\u001b[49m\n\u001b[0;32m    454\u001b[0m \u001b[43m\u001b[49m\u001b[43m)\u001b[49m\u001b[43m(\u001b[49m\n\u001b[0;32m    455\u001b[0m \u001b[43m    \u001b[49m\u001b[43mdelayed\u001b[49m\u001b[43m(\u001b[49m\u001b[43m_parallel_build_trees\u001b[49m\u001b[43m)\u001b[49m\u001b[43m(\u001b[49m\n\u001b[0;32m    456\u001b[0m \u001b[43m        \u001b[49m\u001b[43mt\u001b[49m\u001b[43m,\u001b[49m\n\u001b[0;32m    457\u001b[0m \u001b[43m        \u001b[49m\u001b[38;5;28;43mself\u001b[39;49m\u001b[43m,\u001b[49m\n\u001b[0;32m    458\u001b[0m \u001b[43m        \u001b[49m\u001b[43mX\u001b[49m\u001b[43m,\u001b[49m\n\u001b[0;32m    459\u001b[0m \u001b[43m        \u001b[49m\u001b[43my\u001b[49m\u001b[43m,\u001b[49m\n\u001b[0;32m    460\u001b[0m \u001b[43m        \u001b[49m\u001b[43msample_weight\u001b[49m\u001b[43m,\u001b[49m\n\u001b[0;32m    461\u001b[0m \u001b[43m        \u001b[49m\u001b[43mi\u001b[49m\u001b[43m,\u001b[49m\n\u001b[0;32m    462\u001b[0m \u001b[43m        \u001b[49m\u001b[38;5;28;43mlen\u001b[39;49m\u001b[43m(\u001b[49m\u001b[43mtrees\u001b[49m\u001b[43m)\u001b[49m\u001b[43m,\u001b[49m\n\u001b[0;32m    463\u001b[0m \u001b[43m        \u001b[49m\u001b[43mverbose\u001b[49m\u001b[38;5;241;43m=\u001b[39;49m\u001b[38;5;28;43mself\u001b[39;49m\u001b[38;5;241;43m.\u001b[39;49m\u001b[43mverbose\u001b[49m\u001b[43m,\u001b[49m\n\u001b[0;32m    464\u001b[0m \u001b[43m        \u001b[49m\u001b[43mclass_weight\u001b[49m\u001b[38;5;241;43m=\u001b[39;49m\u001b[38;5;28;43mself\u001b[39;49m\u001b[38;5;241;43m.\u001b[39;49m\u001b[43mclass_weight\u001b[49m\u001b[43m,\u001b[49m\n\u001b[0;32m    465\u001b[0m \u001b[43m        \u001b[49m\u001b[43mn_samples_bootstrap\u001b[49m\u001b[38;5;241;43m=\u001b[39;49m\u001b[43mn_samples_bootstrap\u001b[49m\u001b[43m,\u001b[49m\n\u001b[0;32m    466\u001b[0m \u001b[43m    \u001b[49m\u001b[43m)\u001b[49m\n\u001b[0;32m    467\u001b[0m \u001b[43m    \u001b[49m\u001b[38;5;28;43;01mfor\u001b[39;49;00m\u001b[43m \u001b[49m\u001b[43mi\u001b[49m\u001b[43m,\u001b[49m\u001b[43m \u001b[49m\u001b[43mt\u001b[49m\u001b[43m \u001b[49m\u001b[38;5;129;43;01min\u001b[39;49;00m\u001b[43m \u001b[49m\u001b[38;5;28;43menumerate\u001b[39;49m\u001b[43m(\u001b[49m\u001b[43mtrees\u001b[49m\u001b[43m)\u001b[49m\n\u001b[0;32m    468\u001b[0m \u001b[43m\u001b[49m\u001b[43m)\u001b[49m\n\u001b[0;32m    470\u001b[0m \u001b[38;5;66;03m# Collect newly grown trees\u001b[39;00m\n\u001b[0;32m    471\u001b[0m \u001b[38;5;28mself\u001b[39m\u001b[38;5;241m.\u001b[39mestimators_\u001b[38;5;241m.\u001b[39mextend(trees)\n",
      "File \u001b[1;32m~\\anaconda3\\lib\\site-packages\\joblib\\parallel.py:1046\u001b[0m, in \u001b[0;36mParallel.__call__\u001b[1;34m(self, iterable)\u001b[0m\n\u001b[0;32m   1043\u001b[0m \u001b[38;5;28;01mif\u001b[39;00m \u001b[38;5;28mself\u001b[39m\u001b[38;5;241m.\u001b[39mdispatch_one_batch(iterator):\n\u001b[0;32m   1044\u001b[0m     \u001b[38;5;28mself\u001b[39m\u001b[38;5;241m.\u001b[39m_iterating \u001b[38;5;241m=\u001b[39m \u001b[38;5;28mself\u001b[39m\u001b[38;5;241m.\u001b[39m_original_iterator \u001b[38;5;129;01mis\u001b[39;00m \u001b[38;5;129;01mnot\u001b[39;00m \u001b[38;5;28;01mNone\u001b[39;00m\n\u001b[1;32m-> 1046\u001b[0m \u001b[38;5;28;01mwhile\u001b[39;00m \u001b[38;5;28;43mself\u001b[39;49m\u001b[38;5;241;43m.\u001b[39;49m\u001b[43mdispatch_one_batch\u001b[49m\u001b[43m(\u001b[49m\u001b[43miterator\u001b[49m\u001b[43m)\u001b[49m:\n\u001b[0;32m   1047\u001b[0m     \u001b[38;5;28;01mpass\u001b[39;00m\n\u001b[0;32m   1049\u001b[0m \u001b[38;5;28;01mif\u001b[39;00m pre_dispatch \u001b[38;5;241m==\u001b[39m \u001b[38;5;124m\"\u001b[39m\u001b[38;5;124mall\u001b[39m\u001b[38;5;124m\"\u001b[39m \u001b[38;5;129;01mor\u001b[39;00m n_jobs \u001b[38;5;241m==\u001b[39m \u001b[38;5;241m1\u001b[39m:\n\u001b[0;32m   1050\u001b[0m     \u001b[38;5;66;03m# The iterable was consumed all at once by the above for loop.\u001b[39;00m\n\u001b[0;32m   1051\u001b[0m     \u001b[38;5;66;03m# No need to wait for async callbacks to trigger to\u001b[39;00m\n\u001b[0;32m   1052\u001b[0m     \u001b[38;5;66;03m# consumption.\u001b[39;00m\n",
      "File \u001b[1;32m~\\anaconda3\\lib\\site-packages\\joblib\\parallel.py:861\u001b[0m, in \u001b[0;36mParallel.dispatch_one_batch\u001b[1;34m(self, iterator)\u001b[0m\n\u001b[0;32m    859\u001b[0m     \u001b[38;5;28;01mreturn\u001b[39;00m \u001b[38;5;28;01mFalse\u001b[39;00m\n\u001b[0;32m    860\u001b[0m \u001b[38;5;28;01melse\u001b[39;00m:\n\u001b[1;32m--> 861\u001b[0m     \u001b[38;5;28;43mself\u001b[39;49m\u001b[38;5;241;43m.\u001b[39;49m\u001b[43m_dispatch\u001b[49m\u001b[43m(\u001b[49m\u001b[43mtasks\u001b[49m\u001b[43m)\u001b[49m\n\u001b[0;32m    862\u001b[0m     \u001b[38;5;28;01mreturn\u001b[39;00m \u001b[38;5;28;01mTrue\u001b[39;00m\n",
      "File \u001b[1;32m~\\anaconda3\\lib\\site-packages\\joblib\\parallel.py:779\u001b[0m, in \u001b[0;36mParallel._dispatch\u001b[1;34m(self, batch)\u001b[0m\n\u001b[0;32m    777\u001b[0m \u001b[38;5;28;01mwith\u001b[39;00m \u001b[38;5;28mself\u001b[39m\u001b[38;5;241m.\u001b[39m_lock:\n\u001b[0;32m    778\u001b[0m     job_idx \u001b[38;5;241m=\u001b[39m \u001b[38;5;28mlen\u001b[39m(\u001b[38;5;28mself\u001b[39m\u001b[38;5;241m.\u001b[39m_jobs)\n\u001b[1;32m--> 779\u001b[0m     job \u001b[38;5;241m=\u001b[39m \u001b[38;5;28;43mself\u001b[39;49m\u001b[38;5;241;43m.\u001b[39;49m\u001b[43m_backend\u001b[49m\u001b[38;5;241;43m.\u001b[39;49m\u001b[43mapply_async\u001b[49m\u001b[43m(\u001b[49m\u001b[43mbatch\u001b[49m\u001b[43m,\u001b[49m\u001b[43m \u001b[49m\u001b[43mcallback\u001b[49m\u001b[38;5;241;43m=\u001b[39;49m\u001b[43mcb\u001b[49m\u001b[43m)\u001b[49m\n\u001b[0;32m    780\u001b[0m     \u001b[38;5;66;03m# A job can complete so quickly than its callback is\u001b[39;00m\n\u001b[0;32m    781\u001b[0m     \u001b[38;5;66;03m# called before we get here, causing self._jobs to\u001b[39;00m\n\u001b[0;32m    782\u001b[0m     \u001b[38;5;66;03m# grow. To ensure correct results ordering, .insert is\u001b[39;00m\n\u001b[0;32m    783\u001b[0m     \u001b[38;5;66;03m# used (rather than .append) in the following line\u001b[39;00m\n\u001b[0;32m    784\u001b[0m     \u001b[38;5;28mself\u001b[39m\u001b[38;5;241m.\u001b[39m_jobs\u001b[38;5;241m.\u001b[39minsert(job_idx, job)\n",
      "File \u001b[1;32m~\\anaconda3\\lib\\site-packages\\joblib\\_parallel_backends.py:208\u001b[0m, in \u001b[0;36mSequentialBackend.apply_async\u001b[1;34m(self, func, callback)\u001b[0m\n\u001b[0;32m    206\u001b[0m \u001b[38;5;28;01mdef\u001b[39;00m \u001b[38;5;21mapply_async\u001b[39m(\u001b[38;5;28mself\u001b[39m, func, callback\u001b[38;5;241m=\u001b[39m\u001b[38;5;28;01mNone\u001b[39;00m):\n\u001b[0;32m    207\u001b[0m     \u001b[38;5;124;03m\"\"\"Schedule a func to be run\"\"\"\u001b[39;00m\n\u001b[1;32m--> 208\u001b[0m     result \u001b[38;5;241m=\u001b[39m \u001b[43mImmediateResult\u001b[49m\u001b[43m(\u001b[49m\u001b[43mfunc\u001b[49m\u001b[43m)\u001b[49m\n\u001b[0;32m    209\u001b[0m     \u001b[38;5;28;01mif\u001b[39;00m callback:\n\u001b[0;32m    210\u001b[0m         callback(result)\n",
      "File \u001b[1;32m~\\anaconda3\\lib\\site-packages\\joblib\\_parallel_backends.py:572\u001b[0m, in \u001b[0;36mImmediateResult.__init__\u001b[1;34m(self, batch)\u001b[0m\n\u001b[0;32m    569\u001b[0m \u001b[38;5;28;01mdef\u001b[39;00m \u001b[38;5;21m__init__\u001b[39m(\u001b[38;5;28mself\u001b[39m, batch):\n\u001b[0;32m    570\u001b[0m     \u001b[38;5;66;03m# Don't delay the application, to avoid keeping the input\u001b[39;00m\n\u001b[0;32m    571\u001b[0m     \u001b[38;5;66;03m# arguments in memory\u001b[39;00m\n\u001b[1;32m--> 572\u001b[0m     \u001b[38;5;28mself\u001b[39m\u001b[38;5;241m.\u001b[39mresults \u001b[38;5;241m=\u001b[39m \u001b[43mbatch\u001b[49m\u001b[43m(\u001b[49m\u001b[43m)\u001b[49m\n",
      "File \u001b[1;32m~\\anaconda3\\lib\\site-packages\\joblib\\parallel.py:262\u001b[0m, in \u001b[0;36mBatchedCalls.__call__\u001b[1;34m(self)\u001b[0m\n\u001b[0;32m    258\u001b[0m \u001b[38;5;28;01mdef\u001b[39;00m \u001b[38;5;21m__call__\u001b[39m(\u001b[38;5;28mself\u001b[39m):\n\u001b[0;32m    259\u001b[0m     \u001b[38;5;66;03m# Set the default nested backend to self._backend but do not set the\u001b[39;00m\n\u001b[0;32m    260\u001b[0m     \u001b[38;5;66;03m# change the default number of processes to -1\u001b[39;00m\n\u001b[0;32m    261\u001b[0m     \u001b[38;5;28;01mwith\u001b[39;00m parallel_backend(\u001b[38;5;28mself\u001b[39m\u001b[38;5;241m.\u001b[39m_backend, n_jobs\u001b[38;5;241m=\u001b[39m\u001b[38;5;28mself\u001b[39m\u001b[38;5;241m.\u001b[39m_n_jobs):\n\u001b[1;32m--> 262\u001b[0m         \u001b[38;5;28;01mreturn\u001b[39;00m [func(\u001b[38;5;241m*\u001b[39margs, \u001b[38;5;241m*\u001b[39m\u001b[38;5;241m*\u001b[39mkwargs)\n\u001b[0;32m    263\u001b[0m                 \u001b[38;5;28;01mfor\u001b[39;00m func, args, kwargs \u001b[38;5;129;01min\u001b[39;00m \u001b[38;5;28mself\u001b[39m\u001b[38;5;241m.\u001b[39mitems]\n",
      "File \u001b[1;32m~\\anaconda3\\lib\\site-packages\\joblib\\parallel.py:262\u001b[0m, in \u001b[0;36m<listcomp>\u001b[1;34m(.0)\u001b[0m\n\u001b[0;32m    258\u001b[0m \u001b[38;5;28;01mdef\u001b[39;00m \u001b[38;5;21m__call__\u001b[39m(\u001b[38;5;28mself\u001b[39m):\n\u001b[0;32m    259\u001b[0m     \u001b[38;5;66;03m# Set the default nested backend to self._backend but do not set the\u001b[39;00m\n\u001b[0;32m    260\u001b[0m     \u001b[38;5;66;03m# change the default number of processes to -1\u001b[39;00m\n\u001b[0;32m    261\u001b[0m     \u001b[38;5;28;01mwith\u001b[39;00m parallel_backend(\u001b[38;5;28mself\u001b[39m\u001b[38;5;241m.\u001b[39m_backend, n_jobs\u001b[38;5;241m=\u001b[39m\u001b[38;5;28mself\u001b[39m\u001b[38;5;241m.\u001b[39m_n_jobs):\n\u001b[1;32m--> 262\u001b[0m         \u001b[38;5;28;01mreturn\u001b[39;00m [func(\u001b[38;5;241m*\u001b[39margs, \u001b[38;5;241m*\u001b[39m\u001b[38;5;241m*\u001b[39mkwargs)\n\u001b[0;32m    263\u001b[0m                 \u001b[38;5;28;01mfor\u001b[39;00m func, args, kwargs \u001b[38;5;129;01min\u001b[39;00m \u001b[38;5;28mself\u001b[39m\u001b[38;5;241m.\u001b[39mitems]\n",
      "File \u001b[1;32m~\\anaconda3\\lib\\site-packages\\sklearn\\utils\\fixes.py:216\u001b[0m, in \u001b[0;36m_FuncWrapper.__call__\u001b[1;34m(self, *args, **kwargs)\u001b[0m\n\u001b[0;32m    214\u001b[0m \u001b[38;5;28;01mdef\u001b[39;00m \u001b[38;5;21m__call__\u001b[39m(\u001b[38;5;28mself\u001b[39m, \u001b[38;5;241m*\u001b[39margs, \u001b[38;5;241m*\u001b[39m\u001b[38;5;241m*\u001b[39mkwargs):\n\u001b[0;32m    215\u001b[0m     \u001b[38;5;28;01mwith\u001b[39;00m config_context(\u001b[38;5;241m*\u001b[39m\u001b[38;5;241m*\u001b[39m\u001b[38;5;28mself\u001b[39m\u001b[38;5;241m.\u001b[39mconfig):\n\u001b[1;32m--> 216\u001b[0m         \u001b[38;5;28;01mreturn\u001b[39;00m \u001b[38;5;28mself\u001b[39m\u001b[38;5;241m.\u001b[39mfunction(\u001b[38;5;241m*\u001b[39margs, \u001b[38;5;241m*\u001b[39m\u001b[38;5;241m*\u001b[39mkwargs)\n",
      "File \u001b[1;32m~\\anaconda3\\lib\\site-packages\\sklearn\\ensemble\\_forest.py:185\u001b[0m, in \u001b[0;36m_parallel_build_trees\u001b[1;34m(tree, forest, X, y, sample_weight, tree_idx, n_trees, verbose, class_weight, n_samples_bootstrap)\u001b[0m\n\u001b[0;32m    182\u001b[0m     \u001b[38;5;28;01melif\u001b[39;00m class_weight \u001b[38;5;241m==\u001b[39m \u001b[38;5;124m\"\u001b[39m\u001b[38;5;124mbalanced_subsample\u001b[39m\u001b[38;5;124m\"\u001b[39m:\n\u001b[0;32m    183\u001b[0m         curr_sample_weight \u001b[38;5;241m*\u001b[39m\u001b[38;5;241m=\u001b[39m compute_sample_weight(\u001b[38;5;124m\"\u001b[39m\u001b[38;5;124mbalanced\u001b[39m\u001b[38;5;124m\"\u001b[39m, y, indices\u001b[38;5;241m=\u001b[39mindices)\n\u001b[1;32m--> 185\u001b[0m     \u001b[43mtree\u001b[49m\u001b[38;5;241;43m.\u001b[39;49m\u001b[43mfit\u001b[49m\u001b[43m(\u001b[49m\u001b[43mX\u001b[49m\u001b[43m,\u001b[49m\u001b[43m \u001b[49m\u001b[43my\u001b[49m\u001b[43m,\u001b[49m\u001b[43m \u001b[49m\u001b[43msample_weight\u001b[49m\u001b[38;5;241;43m=\u001b[39;49m\u001b[43mcurr_sample_weight\u001b[49m\u001b[43m,\u001b[49m\u001b[43m \u001b[49m\u001b[43mcheck_input\u001b[49m\u001b[38;5;241;43m=\u001b[39;49m\u001b[38;5;28;43;01mFalse\u001b[39;49;00m\u001b[43m)\u001b[49m\n\u001b[0;32m    186\u001b[0m \u001b[38;5;28;01melse\u001b[39;00m:\n\u001b[0;32m    187\u001b[0m     tree\u001b[38;5;241m.\u001b[39mfit(X, y, sample_weight\u001b[38;5;241m=\u001b[39msample_weight, check_input\u001b[38;5;241m=\u001b[39m\u001b[38;5;28;01mFalse\u001b[39;00m)\n",
      "File \u001b[1;32m~\\anaconda3\\lib\\site-packages\\sklearn\\tree\\_classes.py:1315\u001b[0m, in \u001b[0;36mDecisionTreeRegressor.fit\u001b[1;34m(self, X, y, sample_weight, check_input, X_idx_sorted)\u001b[0m\n\u001b[0;32m   1278\u001b[0m \u001b[38;5;28;01mdef\u001b[39;00m \u001b[38;5;21mfit\u001b[39m(\n\u001b[0;32m   1279\u001b[0m     \u001b[38;5;28mself\u001b[39m, X, y, sample_weight\u001b[38;5;241m=\u001b[39m\u001b[38;5;28;01mNone\u001b[39;00m, check_input\u001b[38;5;241m=\u001b[39m\u001b[38;5;28;01mTrue\u001b[39;00m, X_idx_sorted\u001b[38;5;241m=\u001b[39m\u001b[38;5;124m\"\u001b[39m\u001b[38;5;124mdeprecated\u001b[39m\u001b[38;5;124m\"\u001b[39m\n\u001b[0;32m   1280\u001b[0m ):\n\u001b[0;32m   1281\u001b[0m     \u001b[38;5;124;03m\"\"\"Build a decision tree regressor from the training set (X, y).\u001b[39;00m\n\u001b[0;32m   1282\u001b[0m \n\u001b[0;32m   1283\u001b[0m \u001b[38;5;124;03m    Parameters\u001b[39;00m\n\u001b[1;32m   (...)\u001b[0m\n\u001b[0;32m   1312\u001b[0m \u001b[38;5;124;03m        Fitted estimator.\u001b[39;00m\n\u001b[0;32m   1313\u001b[0m \u001b[38;5;124;03m    \"\"\"\u001b[39;00m\n\u001b[1;32m-> 1315\u001b[0m     \u001b[38;5;28;43msuper\u001b[39;49m\u001b[43m(\u001b[49m\u001b[43m)\u001b[49m\u001b[38;5;241;43m.\u001b[39;49m\u001b[43mfit\u001b[49m\u001b[43m(\u001b[49m\n\u001b[0;32m   1316\u001b[0m \u001b[43m        \u001b[49m\u001b[43mX\u001b[49m\u001b[43m,\u001b[49m\n\u001b[0;32m   1317\u001b[0m \u001b[43m        \u001b[49m\u001b[43my\u001b[49m\u001b[43m,\u001b[49m\n\u001b[0;32m   1318\u001b[0m \u001b[43m        \u001b[49m\u001b[43msample_weight\u001b[49m\u001b[38;5;241;43m=\u001b[39;49m\u001b[43msample_weight\u001b[49m\u001b[43m,\u001b[49m\n\u001b[0;32m   1319\u001b[0m \u001b[43m        \u001b[49m\u001b[43mcheck_input\u001b[49m\u001b[38;5;241;43m=\u001b[39;49m\u001b[43mcheck_input\u001b[49m\u001b[43m,\u001b[49m\n\u001b[0;32m   1320\u001b[0m \u001b[43m        \u001b[49m\u001b[43mX_idx_sorted\u001b[49m\u001b[38;5;241;43m=\u001b[39;49m\u001b[43mX_idx_sorted\u001b[49m\u001b[43m,\u001b[49m\n\u001b[0;32m   1321\u001b[0m \u001b[43m    \u001b[49m\u001b[43m)\u001b[49m\n\u001b[0;32m   1322\u001b[0m     \u001b[38;5;28;01mreturn\u001b[39;00m \u001b[38;5;28mself\u001b[39m\n",
      "File \u001b[1;32m~\\anaconda3\\lib\\site-packages\\sklearn\\tree\\_classes.py:420\u001b[0m, in \u001b[0;36mBaseDecisionTree.fit\u001b[1;34m(self, X, y, sample_weight, check_input, X_idx_sorted)\u001b[0m\n\u001b[0;32m    409\u001b[0m \u001b[38;5;28;01melse\u001b[39;00m:\n\u001b[0;32m    410\u001b[0m     builder \u001b[38;5;241m=\u001b[39m BestFirstTreeBuilder(\n\u001b[0;32m    411\u001b[0m         splitter,\n\u001b[0;32m    412\u001b[0m         min_samples_split,\n\u001b[1;32m   (...)\u001b[0m\n\u001b[0;32m    417\u001b[0m         \u001b[38;5;28mself\u001b[39m\u001b[38;5;241m.\u001b[39mmin_impurity_decrease,\n\u001b[0;32m    418\u001b[0m     )\n\u001b[1;32m--> 420\u001b[0m \u001b[43mbuilder\u001b[49m\u001b[38;5;241;43m.\u001b[39;49m\u001b[43mbuild\u001b[49m\u001b[43m(\u001b[49m\u001b[38;5;28;43mself\u001b[39;49m\u001b[38;5;241;43m.\u001b[39;49m\u001b[43mtree_\u001b[49m\u001b[43m,\u001b[49m\u001b[43m \u001b[49m\u001b[43mX\u001b[49m\u001b[43m,\u001b[49m\u001b[43m \u001b[49m\u001b[43my\u001b[49m\u001b[43m,\u001b[49m\u001b[43m \u001b[49m\u001b[43msample_weight\u001b[49m\u001b[43m)\u001b[49m\n\u001b[0;32m    422\u001b[0m \u001b[38;5;28;01mif\u001b[39;00m \u001b[38;5;28mself\u001b[39m\u001b[38;5;241m.\u001b[39mn_outputs_ \u001b[38;5;241m==\u001b[39m \u001b[38;5;241m1\u001b[39m \u001b[38;5;129;01mand\u001b[39;00m is_classifier(\u001b[38;5;28mself\u001b[39m):\n\u001b[0;32m    423\u001b[0m     \u001b[38;5;28mself\u001b[39m\u001b[38;5;241m.\u001b[39mn_classes_ \u001b[38;5;241m=\u001b[39m \u001b[38;5;28mself\u001b[39m\u001b[38;5;241m.\u001b[39mn_classes_[\u001b[38;5;241m0\u001b[39m]\n",
      "File \u001b[1;32msklearn\\tree\\_tree.pyx:131\u001b[0m, in \u001b[0;36msklearn.tree._tree.DepthFirstTreeBuilder.build\u001b[1;34m()\u001b[0m\n",
      "File \u001b[1;32msklearn\\tree\\_tree.pyx:227\u001b[0m, in \u001b[0;36msklearn.tree._tree.DepthFirstTreeBuilder.build\u001b[1;34m()\u001b[0m\n",
      "File \u001b[1;32msklearn\\tree\\_tree.pyx:724\u001b[0m, in \u001b[0;36msklearn.tree._tree.Tree._add_node\u001b[1;34m()\u001b[0m\n",
      "File \u001b[1;32msklearn\\tree\\_tree.pyx:695\u001b[0m, in \u001b[0;36msklearn.tree._tree.Tree._resize_c\u001b[1;34m()\u001b[0m\n",
      "File \u001b[1;32msklearn\\tree\\_utils.pyx:37\u001b[0m, in \u001b[0;36msklearn.tree._utils.safe_realloc\u001b[1;34m()\u001b[0m\n",
      "\u001b[1;31mMemoryError\u001b[0m: could not allocate 117440512 bytes"
     ]
    }
   ],
   "source": [
    "model8.fit(X2,y2)"
   ]
  },
  {
   "cell_type": "code",
   "execution_count": null,
   "id": "1de02b06",
   "metadata": {},
   "outputs": [],
   "source": []
  }
 ],
 "metadata": {
  "kernelspec": {
   "display_name": "Python 3 (ipykernel)",
   "language": "python",
   "name": "python3"
  },
  "language_info": {
   "codemirror_mode": {
    "name": "ipython",
    "version": 3
   },
   "file_extension": ".py",
   "mimetype": "text/x-python",
   "name": "python",
   "nbconvert_exporter": "python",
   "pygments_lexer": "ipython3",
   "version": "3.9.12"
  }
 },
 "nbformat": 4,
 "nbformat_minor": 5
}
